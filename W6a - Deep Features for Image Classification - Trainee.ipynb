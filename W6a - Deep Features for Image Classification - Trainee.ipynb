{
 "cells": [
  {
   "cell_type": "markdown",
   "metadata": {},
   "source": [
    "# Deep Featrues를 이용해서 이미지 분류하기"
   ]
  },
  {
   "cell_type": "markdown",
   "metadata": {},
   "source": [
    "## graphlab import하기"
   ]
  },
  {
   "cell_type": "markdown",
   "metadata": {},
   "source": [
    "graphlab을 사용하기 위해 import합시다."
   ]
  },
  {
   "cell_type": "code",
   "execution_count": null,
   "metadata": {},
   "outputs": [],
   "source": []
  },
  {
   "cell_type": "markdown",
   "metadata": {},
   "source": [
    "# CIFAR-10 이미지 데이터 세트 로드하기\n",
    "\n",
    "우리가 사용할 데이터는 CIFAR-10이라는 데이터 세트로서 컴퓨터 비전 분야에서 많이 사용하는 벤치 마크 데이터 세트입니다. \n",
    "\n",
    "https://www.cs.toronto.edu/~kriz/cifar.html\n",
    "\n",
    "\n",
    "이 데이터 세트는 원래 10개 카테고리의 이미지들로 구성되어 있는데 본 수업을 위해서 4개 카테고리 - 'cat', 'bird'. automobile', 'dog' - 로 줄였고 학습 데이터와 테스트 데이터로 이미 나누어져 있습니다. "
   ]
  },
  {
   "cell_type": "markdown",
   "metadata": {},
   "source": [
    "아래 2개 폴더의 data를 로드해서 각각 학습 데이터와 테스트 데이터로 사용하고자 합니다.\n",
    "\n",
    "    'image_train_data/'\n",
    "    'image_test_data/'"
   ]
  },
  {
   "cell_type": "code",
   "execution_count": null,
   "metadata": {},
   "outputs": [],
   "source": []
  },
  {
   "cell_type": "code",
   "execution_count": 100,
   "metadata": {},
   "outputs": [],
   "source": [
    "# notebook에 그래프를 표시하도록 합니다.\n",
    "gl.canvas.set_target('ipynb')"
   ]
  },
  {
   "cell_type": "markdown",
   "metadata": {},
   "source": [
    "학습 데이터를 살펴 보세요."
   ]
  },
  {
   "cell_type": "code",
   "execution_count": null,
   "metadata": {},
   "outputs": [],
   "source": []
  },
  {
   "cell_type": "markdown",
   "metadata": {},
   "source": [
    "이미지 id, 이미지 (바이너리값), 레이블, deep_features, 이미지 어레이 (픽셀값) 등을 확인할 수 있습니다."
   ]
  },
  {
   "cell_type": "markdown",
   "metadata": {},
   "source": [
    "학습 데이터의 길이를 확인해 봅시다."
   ]
  },
  {
   "cell_type": "code",
   "execution_count": null,
   "metadata": {},
   "outputs": [],
   "source": []
  },
  {
   "cell_type": "markdown",
   "metadata": {},
   "source": [
    "겨우 2,005개 밖에 없네요. 학습이 쉽지 않아 보입니다."
   ]
  },
  {
   "cell_type": "markdown",
   "metadata": {},
   "source": [
    "## Quiz \n",
    "\n",
    "학습 데이터의 label별로 몇 개씩 데이터가 존재하는지 확인해 봅시다."
   ]
  },
  {
   "cell_type": "code",
   "execution_count": null,
   "metadata": {},
   "outputs": [],
   "source": []
  },
  {
   "cell_type": "markdown",
   "metadata": {},
   "source": [
    "대략 몇개씩 존재하나요?"
   ]
  },
  {
   "cell_type": "markdown",
   "metadata": {},
   "source": [
    "## Quiz \n",
    "\n",
    "학습 데이터에서 4개의 레이블 중 가장 적은 수의 데이터를 가진 레이블은 무엇인가요?"
   ]
  },
  {
   "cell_type": "code",
   "execution_count": null,
   "metadata": {},
   "outputs": [],
   "source": []
  },
  {
   "cell_type": "markdown",
   "metadata": {},
   "source": [
    "# Image 데이터 출력해 보기"
   ]
  },
  {
   "cell_type": "markdown",
   "metadata": {},
   "source": [
    "학습 데이터에 속한 이미지들을 출력해 보고자 합니다.\n",
    "\n",
    "먼저 학습 데이터의 'image' 컬럼의 유형을 확인하세요."
   ]
  },
  {
   "cell_type": "code",
   "execution_count": null,
   "metadata": {},
   "outputs": [],
   "source": []
  },
  {
   "cell_type": "markdown",
   "metadata": {},
   "source": [
    "SArray가 맞나요?"
   ]
  },
  {
   "cell_type": "markdown",
   "metadata": {},
   "source": [
    "학습 데이터의 'image' 컬럼의 첫번째 데이터를 출력해 보세요."
   ]
  },
  {
   "cell_type": "code",
   "execution_count": null,
   "metadata": {
    "scrolled": false
   },
   "outputs": [],
   "source": []
  },
  {
   "cell_type": "markdown",
   "metadata": {},
   "source": [
    "우리가 확인할 수 있는 형태의 데이터로 표시되지 않고 단순히 높이, 폭, 채널 수 등이 표시되네요.\n",
    "\n",
    "이제 학습 데이터의 'image' 컬럼의 첫번째 줄의 데이터의 유형을 확인하세요"
   ]
  },
  {
   "cell_type": "code",
   "execution_count": null,
   "metadata": {
    "scrolled": true
   },
   "outputs": [],
   "source": []
  },
  {
   "cell_type": "markdown",
   "metadata": {},
   "source": [
    "Image가 맞나요? 그렇다면 아래 명령을 이용해서 Image 데이터가 들어있는 SArray에 속한 이미지들을 출력할 수 있습니다.\n",
    "\n",
    "    SArray.show()\n",
    "    \n",
    "주의: Image 유형은 바로 출력이 안되고 SArray만 show 메소드를 이용해서 출력이 가능합니다. 따라서 한개의 이미지를 출력할 때에도 Slice notation을 이용한 SArray가 필요합니다. "
   ]
  },
  {
   "cell_type": "markdown",
   "metadata": {},
   "source": [
    "## Quiz 1\n",
    "\n",
    "학습 데이터의 첫번째 줄의 이미지를 출력해 봅시다."
   ]
  },
  {
   "cell_type": "code",
   "execution_count": null,
   "metadata": {},
   "outputs": [],
   "source": []
  },
  {
   "cell_type": "markdown",
   "metadata": {},
   "source": [
    "이제 학습 데이터의 'image' 컬럼 전체에 대해서 show메소드를 실행해 봅시다."
   ]
  },
  {
   "cell_type": "code",
   "execution_count": null,
   "metadata": {},
   "outputs": [],
   "source": []
  },
  {
   "cell_type": "markdown",
   "metadata": {},
   "source": [
    "개수가 20개를 넘어가는 경우 처음 20개의 이미지만 출력됩니다."
   ]
  },
  {
   "cell_type": "markdown",
   "metadata": {},
   "source": [
    "## (참고) 이미지 크기를 조절하는 법\n",
    "\n",
    "아래 메소드를 이용하면 이미지 크기를 조절할 수 있습니다. 폭과 높이를 조절한 이미지의 SArray를 리턴합니다.\n",
    "\n",
    "    graphlab.image_analaysis.resize(SArray, 폭, 높이)"
   ]
  },
  {
   "cell_type": "code",
   "execution_count": 97,
   "metadata": {},
   "outputs": [
    {
     "data": {
      "application/javascript": [
       "$(\"head\").append($(\"<link/>\").attr({\n",
       "  rel:  \"stylesheet\",\n",
       "  type: \"text/css\",\n",
       "  href: \"//cdnjs.cloudflare.com/ajax/libs/font-awesome/4.1.0/css/font-awesome.min.css\"\n",
       "}));\n",
       "$(\"head\").append($(\"<link/>\").attr({\n",
       "  rel:  \"stylesheet\",\n",
       "  type: \"text/css\",\n",
       "  href: \"https://static.turi.com/products/graphlab-create/2.1/canvas/css/canvas.css\"\n",
       "}));\n",
       "\n",
       "            (function(){\n",
       "\n",
       "                var e = null;\n",
       "                if (typeof element == 'undefined') {\n",
       "                    var scripts = document.getElementsByTagName('script');\n",
       "                    var thisScriptTag = scripts[scripts.length-1];\n",
       "                    var parentDiv = thisScriptTag.parentNode;\n",
       "                    e = document.createElement('div');\n",
       "                    parentDiv.appendChild(e);\n",
       "                } else {\n",
       "                    e = element[0];\n",
       "                }\n",
       "\n",
       "                if (typeof requirejs !== 'undefined') {\n",
       "                    // disable load timeout; ipython_app.js is large and can take a while to load.\n",
       "                    requirejs.config({waitSeconds: 0});\n",
       "                }\n",
       "\n",
       "                require(['https://static.turi.com/products/graphlab-create/2.1/canvas/js/ipython_app.js'], function(IPythonApp){\n",
       "                    var app = new IPythonApp();\n",
       "                    app.attachView('sarray','Images', {\"ipython\": true, \"rows\": [{\"format\": \"png\", \"value\": \"image/png;base64,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\\n\", \"height\": 100, \"channels\": 3, \"width\": 100, \"type\": \"image\", \"id\": 5030535696}, {\"format\": \"png\", \"value\": \"image/png;base64,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\\n\", \"height\": 100, \"channels\": 3, \"width\": 100, \"type\": \"image\", \"id\": 5030536208}, {\"format\": \"png\", \"value\": \"image/png;base64,iVBORw0KGgoAAAANSUhEUgAAAGQAAABkCAIAAAD/gAIDAAANdklEQVR4nO1dyXIcxxHN7q6enn3HSpCERMkKW97DB5+s8FfYP+KLP8N/4U/xEjZtS3SQkkEKhEgQwAwGg1l7evGhXmYVMZDsuldekNGdU92oyVe5Vk3wx9//moheTOtERES/+u3vNHNw8IiY1mmqmU2JK2me4dYmZWYj8lkGPttAbMN3U2bW67XIb2R8Edu6srHGLzMMm2c5PxFX+AUpCkORj6JIruq//cFAMw8eP8RQRWHG3+Q8fmbfNSN6+p+ksjwnosx8RfgCy1K+JCqK8i6T89zzF1JY30yRg89ZTO7KB0tmiIh42IAfGvLDrSvmfXJm7ZeE/P3/Jo/P90NWMaOK9lBbw+orXrMcyE+WAykNENHnnBEUBEajhRUxUdOQ74XWgipgsAf5DhLQRczk5gpGKEozlAA4uPfp99BdMbPk3/uqzN8Z32uWA/nJciClDVZ5n1ETsoxDeYexTci97LeRrfYhg0EeHmxZw+DeMbfN1nc/lJlYxXg0v0ZpGdJya/EoyVtDR/KT5UB+shxIRZuCiIIMq0XJrvy9Hq3l7pZ3GHHuiajYWrTkOxHnIN0YD361WvH4PBozuXm0GVOWlLK4+xrWa1uLb7HhD+JuLGvihl0lOzbku8X7a6LXLAfyk+VASuNCfGhJSny3+bdCa/E5rMDYgJTvMrrzlAN1zt4QUZYhISN4XCwWmpFcjR0zx6qiGXHEJczOOD7PrJTOOkM6KK7goekad2fTuWams5nIVxuJZiqV2P6HvGY5kJ8sB1Lakw5CWJjcTjMxWbbm229ZZIEaMFzcQtsLhnlFKZGvtFuauc6Bjts18JilQNBqZTKrgvhWCx+sVqt4NK8PkRUhlDFgtXfwQDODnV3NXE1uNDNmhoj2k75mgjjmR3oP3pH8ZDmQupOIFViF7+WzjBt458o2Q0RhgO9gvQSappOJZgbdnmaS2MAwZFe1MkQdoZ7A3l1cvNPM0oLtfIZh0yWw2ao3MX4H49/MbkU+qgKG9XZbMyMG3VcnX0PGUpuErW3IjmrhraEr+clyIJXmRJYvJ75lYCVqJRsrZi4sGH0sY+ebAjZJ6zn7lozHxn5NM4N+T+RXKSBzewtrKKBotxqa2axT89IRIKk4LVVjoF28A2xPvn4l8p29Pc2cj641M5niiRn/I81GTeRvrvFuO7ws6KKU1ywH8pPlQH6yHEj9/bIgotkai8svihXfMvmdIES8qsQ158Uqlny1lT7KuBMiKMDECmJJFctNq10X+c1oCma95Adg8eLPkYpEnIoAw4YxbPxsiTD4xckLzbzhxYuIuvw+cQVLW5Nd/2YDa2Iqjya64XhjU+KD/W6bvGY5kZ8sB1JL1SaizQau8IYD18ByaYMAGDP1Z4ZhJFUsy4NfcjuRjDEcwBiLa5Jb+a9aDWa7y/59zPi6uYGrvbO3K/JhAtDNF8BOFAOlBS8HjWZD5OuMtYgD4+Pjx7jCGbEKP5GswuCCs2nVdUpes5zIT5YDqUQFRLRSMBNrBkfxXrVjq4iyRZIRJqLxeKSZJWeHm00EutLwN7PSuLIIzDgwXnHa9835hWY+fPJE5OMabNloNNaMxBiSj5N8NBHlbA1b7Y5mKhWAThJhkbXszOawhmUB2/3Fs/+Q1ywn8pPlQGp+OyWi8QKzlhZg7msQMUkrwePl1ZVmzl6fitjyFk5mGN5tsRDrNrmZyMXLy0vNzBfQ/34Pid2//u2pZpKasW4/+dnPNTMeIzB++hRiAvPpdCrynd19zQge5W69Xt+WDzg+/+rktWbOz96S1ywn8pPlQCqJIyIqOPpLGX22dYg4PyW25uXLl2BOTjQjnehEFJbcksxFVmUlhXFrbgyr1FraPIikpR4+OsaLWb0RYvvEyCYJrPmCDZn9PvUtp1exCypAni9MGlp80esJLrY7A/Ka5UR+shzIT5YDqWYlIKs+LBsfotJgPuYE+7sr2Pivnv9bM7IXJ6mYQFQqZrJw3N4C/IeHhxhTir1EFU4zST/UnA35waefambIu22I6Nk//6GZkMPgbreLB3FoLasYWWF8bx87dUYzDvVzbg2zXKWbKwQGAy6VHx48IK9ZTuQny4FURUVEVOH6cM6tUrbvPWW3+9kX/9LMaokIWfJBeWb6ocTRlzBVPP7xGBr+6JHZoifY7PfhuP/0xz/SjNlyZwXq8xm8/ySBT/Dya8QPKfd/VetmWdg9BPqyBK5GUCAeqEZYKL73/U9EvpdgiZjdIto/Pz8nr1lO5CfLgVSY1IlIhdJdCDOR5cY8vHz1SjNaG8myZeJM26kuudjgfK4Ac8IdIqenp9vy4ui3uYNDgCwxMBF1OkhLnZ290YzYvg8+/ABDVU31SDVgKzcBG33CaiOpsVp7KPI/PEYbl+zvODk5Ia9ZTuQny4FUtdklomTKTYKs7ecXlyL0/Dkql5Imjhgvkg+6d8efZG8Fj4JfO9AdjZCGliZlqffI+KXlNc6536TFTuMRZ6BK7hkhVTXvEcBkDzqQj0KMMBgCfaOxya+tDnBxlxtDdvb2yGuWE/nJciC10nkibkpYr6Cfn3/xTIQuOO0rhyXIyQqSxhXg2CQlFrFWvR7CNDFzZNlKgaH4utJGrQITS0qT8pI91WYL9i7nr3+2Mk5yEmGQYRPLwtEO5N9ccn3IajC75s6JN8+RVtNpbq9ZDuQny4H8ZDmQaoa3RLRf5zVo9FYzJxOzo0HOL5DGEMUegCSS7Aq2uAXb/oT46MrKZ624G6XPhlxWtFq9tj3+yQkqAEmIpfBggK7RS+4arTZNIL3k+naVm7w+OoBPkM6QOMsD0wB2xv3k0i8Wx4q8ZjmRnywHUr3NjIiSCtDxdoRGjElsElotriDVuYNazKzgxU4TS3VXznESYF5xBbvNwTARVWoYZMPxQ78pHj9ebGltdMq4NzPik0VOT8800+tgWUgCoweTJdIE0preaSAw+MFHCLyvbkxFOuS0wuEu0N1IEvKa5UR+shxIxfMFERU5QDS+4ZPQhqaa0mZ/OmEYJomkmaCxNgyPjo4wCMNQfG6xhmJGiajeQrZ3xEnn62sYNQnFbRiec5FJNm588uQjzQy4CPT28krkI959L4vA6TdStkHPSC0x71/mCDw6vO2iktTJa5YT+clyIEX5kogKbruYz9ntNCikRh226cED5Fvl2Lvt0JeI9nhjkWSj3rGbJ6mrt5yhJqKQsSkuqATeUp1dLE1T/2yJ7o8mtz1mMb512bHVtLqPr1ZA9yKX7ku8T1Xhgzs9Y51Vgv93dI2IepZOyGuWE/nJciCVqpysWk4QAhGh5dSJCSu2eoEl0VyxrKGcJrm7i8YrMWoy7MXFhRmfz5rYrgbNud/qnSX/4OOPNZOwGZ1xdFkPgVa7H6zT5FpvDCbg7HOFYbix9u7kIdduz/DQ1+Mpec1yIj9ZDuQny4FUEZVEVBJsap9z5GHLVHRDjm+V9IhyKF1nG19RVn6Kve10jQ922hh2tcSD6rWmyI9uYNpfcelbOkSkNP38yxci35xA/jHb+24P8UCV2INJTQ6+meElZ5yz79WQOBtwD/mEd4UQkQqwUO718JJHh74U5kh+shxIhTpoLGDaS66J2WcPBGxxGUPUaELtHx3D07dP/JnzsQKnb77RTLUKYyyls9Tq56qxo//wIRqppH9EQvEn1kanFq8VBxztDziN1WuDqVltkuMrQEzic2ktke7OwXBH5E0+bgb5w0GLvGY5kZ8sB1KVsCTrxI14Add5OR2L0KgKk9RjXe3ugJFQNk1NG+Msg9q/fouNQkOWl3xTKzTWUM66kuyzOO4SSHetE0YOuK2yy09vNjCatF0nViAtbZiSVpPVwFSbrD0gsxmeLkm3td/260p+shxIVZIaEXVi6PMxW5PRai5Cy/GXmslGfHrjkGHLMWe92xJ5DsYp49PoArZ9MXuznZYFQ3ZoZe+wJKal3ySyYGK2/LPnGUvYzzH82sp/5VvblgV0SxazrbkcJCBpNX8evDP5yXIgNc9CIlosYXRUBSq4a9X+5UhiOoPY6yWSwqN9lFXilnHq4hCW6PM//0UzK7Y+suPv4ePHIv/Lzz7ju1gEpFYkGS7bWgk25SwOOc+uCIyvK5TJ/ke+Ik0Y9s/5CAkkxTrrpLnXLAfyk+VAfrIcSK2WKRGlK+5+qsBxbxvLTkd9rCBxiA7w0Q32R1xe/Ukzi8hUmKmAIxJzk1cYIBRfzxEhjzamwnw6RIRwdIw2jfYA+abuQ/gQdj+XHAOfpbKx8e4JvmVhTgyRH5+Rxff/OQPFvpv7M/9cyU+WAwV/+M1jIsozbktswEL3B2Yehw2AtBrw/iA+Xm4TAR3LwASum5wD4wJ3Fxu4wlMO1Odr0/+1idhNTxAGtIcIfQf78DC6Q3N+VruLXHCrhYv1BmAbycG6ofHIRSWk4pfJ0bZyeKj9KxTF3aMWSv/Daq7kJ8uBVEg5EeWlHO0Mdbw2xQ4qc7jRXT6hg8FqBcaR6SaOqhw/m5+s5NPrSqA1LUyEcMtnWc6542NxjVLw+Tc4kedVZr7XnE/7qjUAw04fRnPAPSm9XRNR1HsHmmn3gda4iv+o5GXE+nEXyvknU4rivYOHvGY50H8Bz9GV7sYZhlgAAAAASUVORK5CYII=\\n\", \"height\": 100, \"channels\": 3, \"width\": 100, \"type\": \"image\", \"id\": 5030536464}, {\"format\": \"png\", \"value\": \"image/png;base64,iVBORw0KGgoAAAANSUhEUgAAAGQAAABkCAIAAAD/gAIDAAAOlElEQVR4nO1dW48cVxGu7j493TO911mvvdnEGCzk2CGRrFxMQBAUwgMCgbhFiSOFBx5A/BfeeIFAUMJrJO4CIYggOCgJSUhCYuXiux18W+/O7s6te/rGw6mvzomTB877qReXe2pO95ytOnWvDp74/U+IKFYxERFRp8NIt9clwKwsGClmuMJIQKFG8mkh9HVd0wchDJks7nQ0EkWR+bht9b9FkfNqk4lGkjTRSJZl5nkKvtdgZ1cjk8kUK/FSvawn9N2u+S14Wr7RbMZLBZGSTxvFD1nVFX5RQ4Sf6uH/ARU2RERB3ej/NyUzxXg4EaJQMRcExEg5Y/oi5z9p05hFq6rUiLBPlvHfNgr5ShgYzmqJv5wkzD5xnNy0QtOa9YOI2X9hYRFfTHkpcFZVVULf4Mt1yzcKY+ajGpw1GQ3N+jGvJgLRNJ6zHMFvlgOoST4lou3BQP+/ARtHOPKJKEkhRAFvbksiFTi5cSgSURMwUpYsCzvbzOQx+L/TScxDKDlcedkGglnjPkEQCH3bBnIVV1os+xEKZAR1MZ3xuR7iU/khonmIqMJN8zzHDynJc5YT+M1yAFW2NREFMQtdAY6djXMhKq9vaUSYNu2yvuh22ZxJYiNWYmcFEFu50rZMNpuVht5WpfpKwFeMpVMZ263GxVBOg4Y/baDvSmv9HFZhLUKH36ug6CkwfNO0ER6Sv6jVoucsB/Cb5QB+sxxAaXcvDFh5z2VsE4c9o3pvbF7XyDgfa6QY89GwPWILvmf5kvPZvEYW5/hEE3u9afm4sS3svOTzZTzFiYmjJ4GvmoTm79qCflLywToc84OJgSHHjQ29HnsICp6geBSz0pxxw/EIq/FN0zQlz1lO4DfLAVQcxUQ0QdBDQi6RMmK4tLSkkZV4n0bygsmGE/5iUU6FfnMLbAzHOwpZZ4shnltiUjYskjlks4BQVLAA6sj8XRPgIYRITJkGVkjXCtHIISPPk8LxLhB0ikLjsXQ6bIiUiAjoIJXnLAfwm+UAand3l4iKgvkfWsg2aGmKuGISs5r7+lce00icsvZsIqPdXnzhOY2cO/O2RrIMsUcJdcWG7dMUSkqxdOwiBFrhfKiUsfLFiY97LF8ZAmHiUTeWV1DOEKSb8PkgHrKY8iJxRFQTdqMVx6Mlz1lO4DfLAVQxK8gSwwaxHNUx2rCE5uqE0DUxi9XOgOVlZ7Qj9JdO/Vcjg6tsK9YLkI6WuT3tmvhU1WE8TnjZuZh12bRCvLs2Yr494puGCH13eixNouZsiDssrWnLZJKnmObFh+nLpsQXmb5pKvKc5QR+sxxARZEiom6P+V+0Yd2Y+FEXKbsIuuaXT/9cI5sbLAmbN4wY3rjGvmQvZWlSoYRxWaLXb1sX+vX9t2nk1Lvn+IuLLDhr6ytMFFoxLzzlrEXYFwdFg8CZrQ0XFuY00u/zLwnC+Zu+OJkao7qo+O6tCWoTec5yAr9ZDuA3ywFUE0ZEFMJgn0J07VIE8X4DBKfHKEq49P41jRy7+x6hP9WyzJcFzOKQVzh96pJGNq4NhD7p8NF29p2zGtmZ8qe3f+qgRo7c+QmhT1P8jbF8WUvJBSJiVgy+hSnQVHBFUrYwFH5nLzU2R0qwGHBoTacT8pzlBH6zHECVZU1Eccy7ppCIVpGxsANwYxKxvPT7rIzT7qZGrly9KvRSOXTk8CGNtAgKX758USNbmxtC/+brr2hkHvUj1OH1QzzGYHdL6LtzAT7lZaucBU3Ok55VZhQhnpVPGyAsrRUybL2eiX9lC7wJMaLPu4W34B3Bb5YDqMlwQpa+k4qkwCKawducg8Z46IGvaeSuI0c18vKLLwn9vuUFjbz79jsaGU7Zo37k+Lc08uYbrwn966+yGC4tsFl/2wHWff1bljVShiZDPqv4eVIcGosLTCbJbQlsEVEYsjQ1Ff+sAoZ7iVKR7cLUo42QjZfqEp1R95zlAH6zHEBVs5qsMFCMCsTQiiuXiCXtX/+YRjpQEyffelMjx44dFfovP/igRk69d0ojfzvxvEbGKDy5eOGSWR+269Zl9sBDSFOGAtw9+1eEfkqINTeo+Agke4RsrhX/quBdlzMJOt9MH1i/t0WtaIPqUZ2U9ZzlAH6zHEBl3TkiE7mZy9gaLAvDxh0Eka9cvqyR4QCCs8lGqV278O/XWNM9+9dnGfn7PzRy7uwFjbSW75ahdpIK5v844juer8/zJxb93v1rTIYw3GBoTFYNeZFb/wtu+lTq/gPIb1mapG8DS1XCyl4bOoPfLAfwm+UAapKPCakeItodo3y0NTHsADngvOJoVx2wMC/vXdXIcydeEfr/4My6ijNuhhMkxBkRWo56i2hXkLEFU6NCdTjhB5u+977QT3b5fNl3kAtVGkLpB8JwUWTiUwUSX+KfjBG2a5CIVrEVwFN4npgR37vjDH6zHEDplJeIYQ0ktLSt1D+3xDp1sHtDI+v7+hoZ5kZVV+D2bJE/zW+waR4hw6asuHUq9eFdNlwKKO9W6qdm5oEuFpdwU27cWNzDrvv8Eq/QTU2puVSjxF2+KGVfUuFl+d0UAY8Daf3wHRaO4DfLAVS/3yeiEco6RAkWlliNUQssTFujTDhOmGUfe/w7Qv/C8y9o5MJZDiJvb/H6Z0+e1MjM6meMAjbEZzPxePlT+WOq2HJ0kT0abSINLvVlE5avBcTUyGrEKCpeVlpFQiUdhSYDH6FTq4ZH3da+PssR/GY5gBqNxmQFYSdIe9SlcYyXljhoGyGbkk+ZP0+ffksja6t9ob//03dp5PFHv62RV15mM/XHP+LSj53ciGHdIsiLeswaZVkx7ti0RhuGqH0uc7aNc9SbVOU2fzQzz7+6zpZzhLLKBqpYobCLLJtU2qZy2K46uuc5ywH8ZjmA0l5bjKJISStKGz5Z3YJiu0qgtoBa/OOffyX0q0vssl2/8z6NPPmzpzRy8cIZjXSsMK5RsrjSoqhCBCawRkVIg04cSVkxe39tgTRqaeofZzWryL23sjz21zhIneME6CTGiJUSZqn48N33zuA3ywH8ZjmAapuKiBrRs9DQdn1Ts3tza7F08wWwgJdX9wj9x9e5qGrPCh9e29vc2iDtzbU12mDvXo6pD7Z3br47TIfA6jeU+QWjqfRnwd9AT0RWmPUj2Ot4WCpRqFUlKAwpzaybHgrLJSNd5r7RyRH8ZjmAGg5HZPGbmPKBNVgnQpq6FMcS0qqg2j9zpymTPHzwDo0MtiZYgS2SMOV40961W4X+lts40b3xBue3S6SaWwS26sqkqqSWKklhwU/Y1W+Q0Wos00FkM4I3jk4LSvtcxlWMLHr5FLWTs6kXQ0fwm+UAwTe+/ygRFWjrkxxsbPUDSoOfzO8wg3Kg1NqZicvuDlj33XX0Xr6C7uBmxmJ75PAdQj9GC/9vf/M7jVy7dJ6/uM1ly4dvPyT0x48f18i/XnpRI2+89qpGJkPugZpZjnq3x9b5fJ+7I/esse4OErCLMo760hL3X0jvc9bLyHOWE/jNcgC1srJKRAPMz5KmgboyYiWOqyQpZfpVjZqL7elI6EcYIvHAFz6nkbvvPaaR3QFbg88882uhv3KVcz+HUN2sMD/rSw89pJHHv/uY0J88ydWXp89wdEzKUqTe056fJfO5ItRLViUmEKmPmLe1vclBMZmy2Ot0yXOWE/jNcgDVBi0Zj5BSjJSxZ7lIvEkq8SXC1UW//IFDB4T+6O2s6b547/1M1mOy4SZrq+HODaHf2rjC62NWzD33cNHlo488rJETJ/4p9E/89El+MDQRE9KoJeRR5uWRNaIuR9n16H2+o9jba+trQn/rwVs0IgUQ3dSLoSP4zXIAv1kOoDa2rxFR8KH5Wb3QqFJRzC1KnSNkju745GGNPPzVbwr96h62j69vcDdTjKrUXsJnxA9/8D2hv7HB55f26sk6Os+c4Zj9U0//QuiLnMk6KPKSjkKVIJnQMWdWBUNEjHQzGhCNFYOBOUOPpNzfkXbhn7S+MMQR/GY5gNKzpbqYKWCmZlqTnxcXuMiihOqNIaSSCvvDX/4k9OJvnzt3XiPSZtuBfInrTkQbkFaJHafiIZQsLwcOmvhXYwbxcBg6UjLIFq7vnOk3FOmTedXSqCg13sqaF9adi3BRxlr7VJgj+M1yALW2uk5WxUeJ+XFW1SBF0CYhLNpIWDvij969dEroxd8mTOfZGLKgRflHlCVmyywyC/McSJqMUZ/VsFL77OfvE/oC0bFtLNuG/NgJtO0UHY5kjemRCpcuAtN6fBgRWcXTVFSsbSHu/N4Fz1kO4DfLAdTK0ioRVcidJMuYSF2YQTbjEbOlvAVEQQwrcPj8ouleT+C4Sthrbl5edMA0w6F5DULWEyXFQt1JeX2Z51W25nniLsvm/iVM/wkw/wtDYwcDI+fDoRjVMg0DjcOwXTNrKK3EphszxsjXZzmC3ywHUMV0SkRdOEEZyuqLwoSJ5d0mgbA2+LNELjPqmGyQtLQ3kG6FwsYp5jkmyvyd2hplkjBBpcw/iaUFx5oOiRYiaUusQS9iON+bNz9SoslwcqWbUvK1GRotiShCx8TWFseX0zgmz1lO4DfLAfxmOYDqZSERBQGfGqMxUmGNcXQVTAHpOJArXczEtXuMZcJfgLCRjOJb3bsP9Kb+69o1HsIVI2e1jDeD5ROZyGMeOpXXvuAQHeyyRy2thV1rHlYLMnmVjGTMUKdFlTmPKUH9yEp/2X4wz1kO4DfLAZQeYxlI460Mm7Q83VbGtCOeFcKGzvFitcnEOK7ilMo8rCSFICPUNc2NRZ5lor/xYjU8hxFD+7UMWF/mSUsFRzlm+g+8Acq8KIohScRCQj9jZEwfFWB+CqLhuuXCc5YD+M1yAMUFgLCwFxZZu80mpr5pBpFR4FXhf3n1YVkZ7VmiUaiEG2CGxEkHhyXm/eWbG6lkZkeIMrGNgZkJsrLC9HPzbHbLMSKFLfbbMqe5eBTopoT0mVIX4yrQXMavoVAyFM9npF3hf/Tj9KgjPKN9AAAAAElFTkSuQmCC\\n\", \"height\": 100, \"channels\": 3, \"width\": 100, \"type\": \"image\", \"id\": 5030537424}, {\"format\": \"png\", \"value\": \"image/png;base64,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\\n\", \"height\": 100, \"channels\": 3, \"width\": 100, \"type\": \"image\", \"id\": 5030536144}], \"selected_variable\": {\"name\": [\"<SArray>\"], \"dtype\": \"Image\", \"view_component\": \"Images\", \"view_file\": \"sarray\", \"descriptives\": {\"rows\": 5}, \"type\": \"SArray\", \"view_components\": [\"Images\"]}}, e);\n",
       "                });\n",
       "            })();\n",
       "        "
      ]
     },
     "metadata": {},
     "output_type": "display_data"
    }
   ],
   "source": [
    "# 예제\n",
    "gl.image_analysis.resize(image_train[0:5]['image'],100,100).show()"
   ]
  },
  {
   "cell_type": "markdown",
   "metadata": {},
   "source": [
    "아쉽게도 원본 이미지의 해상도가 낮아서 확대를 해도 그다지 좋은 결과를 보여주지 않습니다. 이미지가 잘 보이지 않는 경우 해당 코드를 사용해서 확대해 보세요."
   ]
  },
  {
   "cell_type": "markdown",
   "metadata": {},
   "source": [
    "## Quiz\n",
    "\n",
    "학습 데이터의 20번째 이미지부터 30번째 이미지를 출력해 보세요."
   ]
  },
  {
   "cell_type": "code",
   "execution_count": null,
   "metadata": {},
   "outputs": [],
   "source": []
  },
  {
   "cell_type": "markdown",
   "metadata": {},
   "source": [
    "개, 개, 고양이, 자동차, .... , 고양이, 새 순으로 10개의 이미지가 출력되어야 합니다."
   ]
  },
  {
   "cell_type": "markdown",
   "metadata": {},
   "source": [
    "## Quiz\n",
    "\n",
    "학습 데이터 중에서 뒤에서 10개의 이미지를 출력해 보세요."
   ]
  },
  {
   "cell_type": "code",
   "execution_count": null,
   "metadata": {
    "scrolled": true
   },
   "outputs": [],
   "source": []
  },
  {
   "cell_type": "markdown",
   "metadata": {},
   "source": [
    "고양이, 고양이, 개, 새, ..., 고양이, 고양이 순으로 10개의 이미지가 출력되어야 합니다."
   ]
  },
  {
   "cell_type": "markdown",
   "metadata": {},
   "source": [
    "## image_array 컬럼 살펴 보기\n",
    "\n",
    "image_array 컬럼의 맨 첫번째 행을 출력해 봅시다."
   ]
  },
  {
   "cell_type": "code",
   "execution_count": null,
   "metadata": {
    "scrolled": false
   },
   "outputs": [],
   "source": []
  },
  {
   "cell_type": "markdown",
   "metadata": {},
   "source": [
    "숫자들이 리스트 안에 잔뜩 들어 있습니다. "
   ]
  },
  {
   "cell_type": "markdown",
   "metadata": {},
   "source": [
    "image_array 컬럼의 맨 첫번째 행의 길이를 확인하세요."
   ]
  },
  {
   "cell_type": "code",
   "execution_count": null,
   "metadata": {},
   "outputs": [],
   "source": []
  },
  {
   "cell_type": "markdown",
   "metadata": {},
   "source": [
    "길이가 3072인 것을 확인할 수 있습니다. 이는 32 x 32로 이루어진 RGB 이미지 (1,024개 픽셀, 3채널)의 데이터입니다. 32 x 32 x 3 = 3,072가 됩니다. 3개 채널의 값을 죽 이어서 하나의 리스트에 넣었습니다.\n",
    "\n",
    "\n",
    "## 생각해 볼 문제\n",
    "\n",
    "이러한 모델링은 어떤 문제를 가질까요? 서로의 상관 관계를 파악하는 데 유리한 모델일까요?"
   ]
  },
  {
   "cell_type": "code",
   "execution_count": null,
   "metadata": {},
   "outputs": [],
   "source": []
  },
  {
   "cell_type": "markdown",
   "metadata": {},
   "source": [
    "# Logistic Classifier를 이용한 모델 만들기\n",
    "\n",
    "image_array에 저장된 픽셀들의 값을 모두 개별 피쳐로 이용해서 logistic classifier 모델을 만들고자 합니다.\n",
    "\n",
    "    graphlab.logistic_classifier.create(학습데이터, target=레이블컬럼이름, features=사용하고자하는피쳐리스트, validation_set=None)\n",
    "    \n",
    "이 모델을 **raw_pixel_model**로 저장합시다.\n",
    "\n",
    "참고: 학습 데이터의 양이 작아서 별도의 검증 세트를 사용하지 않습니다."
   ]
  },
  {
   "cell_type": "code",
   "execution_count": null,
   "metadata": {},
   "outputs": [],
   "source": []
  },
  {
   "cell_type": "markdown",
   "metadata": {},
   "source": [
    "위의 메시지 중에서 자세히 볼 부분이 몇가지 있습니다.\n"
   ]
  },
  {
   "cell_type": "markdown",
   "metadata": {},
   "source": [
    "**다음 메시지는 무슨 뜻일까요?**\n",
    "\n",
    "    Number of feature columns   : 1\n",
    "    \n",
    "    Number of unpacked features : 3072\n",
    "    \n",
    "    Number of coefficients    : 9219"
   ]
  },
  {
   "cell_type": "code",
   "execution_count": null,
   "metadata": {},
   "outputs": [],
   "source": []
  },
  {
   "cell_type": "markdown",
   "metadata": {},
   "source": [
    "**그리고 경고 메시지를 잘 살펴 봅시다. 무슨 뜻일까요?**\n",
    "\n",
    "    WARNING: The number of feature dimensions in this problem is very large in comparison with the number of examples. Unless an appropriate regularization value is set, this model may not provide accurate predictions for a validation/test set."
   ]
  },
  {
   "cell_type": "code",
   "execution_count": null,
   "metadata": {},
   "outputs": [],
   "source": []
  },
  {
   "cell_type": "markdown",
   "metadata": {},
   "source": [
    "**마지막 메시지도 잘 살펴 봅시다. 무슨 뜻일까요?**\n",
    "\n",
    "    This model may not be optimal. To improve it, consider increasing `max_iterations`."
   ]
  },
  {
   "cell_type": "code",
   "execution_count": null,
   "metadata": {},
   "outputs": [],
   "source": []
  },
  {
   "cell_type": "markdown",
   "metadata": {},
   "source": [
    "# 모델 검증하기\n",
    "\n",
    "학습 데이터의 첫 3개 이미지를 눈으로 확인합시다. 어떤 이미지들인가요?"
   ]
  },
  {
   "cell_type": "code",
   "execution_count": null,
   "metadata": {},
   "outputs": [],
   "source": []
  },
  {
   "cell_type": "markdown",
   "metadata": {},
   "source": [
    "각각 새, 고양이, 고양이 사진이 맞나요? 학습 데이터에 저장되어 있는 레이블을 확인해 봅시다."
   ]
  },
  {
   "cell_type": "code",
   "execution_count": null,
   "metadata": {},
   "outputs": [],
   "source": []
  },
  {
   "cell_type": "markdown",
   "metadata": {},
   "source": [
    "우리가 눈으로 확인한 것과 동일한 레이블이 저장되어 있습니다."
   ]
  },
  {
   "cell_type": "code",
   "execution_count": null,
   "metadata": {},
   "outputs": [],
   "source": []
  },
  {
   "cell_type": "markdown",
   "metadata": {},
   "source": [
    "이제 이 이미지들을 학습한 모델을 이용해서 예측해 봅시다. predict 메소드를 사용하면 됩니다.\n",
    "\n",
    "    model.predict(SArray)"
   ]
  },
  {
   "cell_type": "code",
   "execution_count": null,
   "metadata": {},
   "outputs": [],
   "source": []
  },
  {
   "cell_type": "markdown",
   "metadata": {},
   "source": [
    "나온 결과가 레이블과 일치하나요? (아마 하나만 맞췄을 겁니다... ㅠ.ㅜ)"
   ]
  },
  {
   "cell_type": "markdown",
   "metadata": {},
   "source": [
    "## 노멀라이즈 적용하기\n",
    "\n",
    "\n",
    "학습 데이터의 image_array의 첫줄을 다시 한번 살펴 봅시다."
   ]
  },
  {
   "cell_type": "code",
   "execution_count": null,
   "metadata": {},
   "outputs": [],
   "source": []
  },
  {
   "cell_type": "markdown",
   "metadata": {},
   "source": [
    "값이 0~255 사이에서 상당히 큰 널뛰기를 하고 있는 것을 확인할 수 있습니다. 우리는 RGB 이미지 픽셀의 값이 0 ~ 255 사이의 값을 가진다는 것을 알고 있습니다. \n",
    "\n",
    "**이 점을 고려할 때 무엇을 할 수 있을까요?**"
   ]
  },
  {
   "cell_type": "markdown",
   "metadata": {},
   "source": [
    "## Quiz\n",
    "\n",
    "image_array 안의 값들을 normalize해서 0~1 사이로 만들어 봅시다. 이를 위해 **normalize_pixel**이라는 함수를 만들어 봅시다.\n",
    "\n",
    "인자로는 array를 받고 안의 값들을 0과 1사이의 값으로 변환한 다음에 다시 리스트에 넣어 결과값으로 반환하고자 합니다. \n",
    "\n",
    "**주의: 여기서 array와 list의 차이에 주목하세요.**"
   ]
  },
  {
   "cell_type": "code",
   "execution_count": null,
   "metadata": {},
   "outputs": [],
   "source": []
  },
  {
   "cell_type": "code",
   "execution_count": null,
   "metadata": {},
   "outputs": [],
   "source": []
  },
  {
   "cell_type": "code",
   "execution_count": null,
   "metadata": {},
   "outputs": [],
   "source": []
  },
  {
   "cell_type": "markdown",
   "metadata": {},
   "source": [
    "## Quiz\n",
    "\n",
    "위에서 만든 함수를 이용해서 image_array에 들어 있는 픽셀 데이터 전체를 normalize한 후에 **image_train**에 새로운 컬럼 **image_array_norm**에 저장하고자 합니다. 어떻게 해야 할까요?\n",
    "\n",
    "**주의: 먼저 apply를 적용해서 함수가 잘 적용되는지 확인한 후에 해당 결과를 새로운 컬럼에 저장하세요.**"
   ]
  },
  {
   "cell_type": "code",
   "execution_count": null,
   "metadata": {},
   "outputs": [],
   "source": []
  },
  {
   "cell_type": "code",
   "execution_count": null,
   "metadata": {},
   "outputs": [],
   "source": []
  },
  {
   "cell_type": "markdown",
   "metadata": {},
   "source": [
    "image_train에 새로운 컬럼이 잘 만들어 졌는지, 데이터는 0과 1사이인지 확인해 봅시다."
   ]
  },
  {
   "cell_type": "code",
   "execution_count": null,
   "metadata": {},
   "outputs": [],
   "source": []
  },
  {
   "cell_type": "markdown",
   "metadata": {},
   "source": [
    "### 새로운 데이터로 새로운 모델 학습하기\n",
    "\n",
    "위와 마찬가지로 logistic_classifier를 이용해서 새로운 피쳐 - normalized 픽셀데이터 - 로 학습해 봅시다."
   ]
  },
  {
   "cell_type": "code",
   "execution_count": null,
   "metadata": {},
   "outputs": [],
   "source": []
  },
  {
   "cell_type": "markdown",
   "metadata": {},
   "source": [
    "이전의 결과 (0.512219)와 비교해 보면 **학습 데이터에 대한 정확도가 변하지 않았다는 것을 확인**할 수 있습니다. \n",
    "\n",
    "왜일까요? 아마도 **graphlab이 이 정도 normalize는 자동으로 하는 것으로 추정됩니다.**"
   ]
  },
  {
   "cell_type": "markdown",
   "metadata": {},
   "source": [
    "다시 한번 학습데이터의 첫 3개 이미지에 대해서 새로운 모델을 이용해서 예측을 해 봅시다."
   ]
  },
  {
   "cell_type": "code",
   "execution_count": 147,
   "metadata": {},
   "outputs": [
    {
     "data": {
      "text/plain": [
       "dtype: str\n",
       "Rows: 3\n",
       "['bird', 'cat', 'cat']"
      ]
     },
     "execution_count": 147,
     "metadata": {},
     "output_type": "execute_result"
    }
   ],
   "source": [
    "## 원래 학습데이터의 레이블\n",
    "image_train[0:3]['label']"
   ]
  },
  {
   "cell_type": "code",
   "execution_count": null,
   "metadata": {},
   "outputs": [],
   "source": []
  },
  {
   "cell_type": "markdown",
   "metadata": {},
   "source": [
    "새로운 모델에서도 하나만 맞았네요. normalize를 안한 모델과 차이가 없습니다. ㅠ.ㅜ\n",
    "\n",
    "어떻게 해야 할까요? (힌트: 아까 학습 시에 나왔던 메시지들에 따라 하나씩 개선해 봅시다.)"
   ]
  },
  {
   "cell_type": "markdown",
   "metadata": {},
   "source": [
    "### max_iterations 추가하기\n",
    "\n",
    "이번에는 지난 모델 학습시에 맨 마지막에 있었던 메시지에 주목해 봅시다.\n",
    "\n",
    "    TERMINATED: Iteration limit reached.\n",
    "    \n",
    "    This model may not be optimal. To improve it, consider increasing `max_iterations`.\n",
    "\n",
    "\n",
    "normalize한 모델에 더해서 **max_iterations**를 20으로 지정해 봅시다.\n",
    "\n",
    "**주의: 이하에서 max_iterations 값을 더 증가시킬 예정이라서 구별을 위해 모델 이름에 20을 포함해서 만드세요.**"
   ]
  },
  {
   "cell_type": "code",
   "execution_count": null,
   "metadata": {
    "scrolled": true
   },
   "outputs": [],
   "source": []
  },
  {
   "cell_type": "markdown",
   "metadata": {},
   "source": [
    "이전 (0.512219)보다 결과 (0.577556)가 조금 더 나아졌습니다!\n",
    "\n",
    "이번에는 50을 사용해 봅시다."
   ]
  },
  {
   "cell_type": "code",
   "execution_count": null,
   "metadata": {
    "scrolled": true
   },
   "outputs": [],
   "source": []
  },
  {
   "cell_type": "markdown",
   "metadata": {},
   "source": [
    "이전 (0.577556)보다 결과 (0.625436)가 조금 더 나아졌습니다!\n",
    "\n",
    "이번에는 100을 사용해 봅시다."
   ]
  },
  {
   "cell_type": "code",
   "execution_count": null,
   "metadata": {},
   "outputs": [],
   "source": []
  },
  {
   "cell_type": "markdown",
   "metadata": {},
   "source": [
    "이전 (0.625436)보다 결과 (0.732170)가 훨씬 더 나아졌습니다!\n",
    "\n",
    "이렇게 계속 값을 올려야 할까요7?"
   ]
  },
  {
   "cell_type": "markdown",
   "metadata": {},
   "source": [
    "참고로 200회 실행하면 정확도가 0.850374로 올라가는 것을 확인할 수 있습니다."
   ]
  },
  {
   "cell_type": "markdown",
   "metadata": {},
   "source": [
    "## 이미지 테스트 세트를 이용해서 모델 검증해 보기\n"
   ]
  },
  {
   "cell_type": "markdown",
   "metadata": {},
   "source": [
    "더 이터레이션을 올려 보기 전에 이미지 테스트 세트를 이용해서 예측이 잘 되는지 확인해 봅시다."
   ]
  },
  {
   "cell_type": "markdown",
   "metadata": {},
   "source": [
    "### image_test 픽셀데이터 normalize하기\n",
    "\n",
    "먼저 image_test 세트의 픽셀 데이터도 동일한 조건으로 normalize해야 합니다. "
   ]
  },
  {
   "cell_type": "markdown",
   "metadata": {},
   "source": [
    "## Quiz \n",
    "\n",
    "**왜일까요?**"
   ]
  },
  {
   "cell_type": "code",
   "execution_count": null,
   "metadata": {},
   "outputs": [],
   "source": []
  },
  {
   "cell_type": "markdown",
   "metadata": {},
   "source": [
    "위에서 만든 함수로 normalize해 봅시다."
   ]
  },
  {
   "cell_type": "code",
   "execution_count": null,
   "metadata": {},
   "outputs": [],
   "source": []
  },
  {
   "cell_type": "markdown",
   "metadata": {},
   "source": [
    "제대로 적용되었는지 확인해 봅시다."
   ]
  },
  {
   "cell_type": "code",
   "execution_count": null,
   "metadata": {},
   "outputs": [],
   "source": []
  },
  {
   "cell_type": "markdown",
   "metadata": {},
   "source": [
    "### image_test로 모델 검증하기"
   ]
  },
  {
   "cell_type": "markdown",
   "metadata": {},
   "source": [
    "## Quiz\n",
    "\n",
    "raw_pixel_model, 노멀라이즈를 적용한 모델의 정확도는 각각 얼마인가요? 그리고 노멀라이즈를 적용한 모델의 iteration을 20, 50, 100회으로 증가시킨 결과는 각각 얼마인가요? \n",
    "\n",
    "총 5개의 모델의 정확도를 비교하세요.\n",
    "\n",
    "    modle.????(테스트데이터)\n",
    "    \n",
    "어떤 메소드를 써야 할까요?"
   ]
  },
  {
   "cell_type": "code",
   "execution_count": 158,
   "metadata": {},
   "outputs": [
    {
     "data": {
      "text/plain": [
       "{'accuracy': 0.477, 'auc': 0.7184439999999988, 'confusion_matrix': Columns:\n",
       " \ttarget_label\tstr\n",
       " \tpredicted_label\tstr\n",
       " \tcount\tint\n",
       " \n",
       " Rows: 16\n",
       " \n",
       " Data:\n",
       " +--------------+-----------------+-------+\n",
       " | target_label | predicted_label | count |\n",
       " +--------------+-----------------+-------+\n",
       " |  automobile  |       bird      |  103  |\n",
       " |     bird     |       bird      |  518  |\n",
       " |     bird     |       dog       |  173  |\n",
       " |     bird     |       cat       |  164  |\n",
       " |     cat      |       dog       |  285  |\n",
       " |     dog      |       dog       |  409  |\n",
       " |     dog      |    automobile   |  112  |\n",
       " |     cat      |       cat       |  340  |\n",
       " |     cat      |    automobile   |  168  |\n",
       " |     dog      |       bird      |  235  |\n",
       " +--------------+-----------------+-------+\n",
       " [16 rows x 3 columns]\n",
       " Note: Only the head of the SFrame is printed.\n",
       " You can use print_rows(num_rows=m, num_columns=n) to print more rows and columns., 'f1_score': 0.4738879493827691, 'log_loss': 1.2152454579249292, 'precision': 0.47189313199543625, 'recall': 0.47700000000000004, 'roc_curve': Columns:\n",
       " \tthreshold\tfloat\n",
       " \tfpr\tfloat\n",
       " \ttpr\tfloat\n",
       " \tp\tint\n",
       " \tn\tint\n",
       " \tclass\tint\n",
       " \n",
       " Rows: 400004\n",
       " \n",
       " Data:\n",
       " +-----------+-----+-----+------+------+-------+\n",
       " | threshold | fpr | tpr |  p   |  n   | class |\n",
       " +-----------+-----+-----+------+------+-------+\n",
       " |    0.0    | 1.0 | 1.0 | 1000 | 3000 |   0   |\n",
       " |   1e-05   | 1.0 | 1.0 | 1000 | 3000 |   0   |\n",
       " |   2e-05   | 1.0 | 1.0 | 1000 | 3000 |   0   |\n",
       " |   3e-05   | 1.0 | 1.0 | 1000 | 3000 |   0   |\n",
       " |   4e-05   | 1.0 | 1.0 | 1000 | 3000 |   0   |\n",
       " |   5e-05   | 1.0 | 1.0 | 1000 | 3000 |   0   |\n",
       " |   6e-05   | 1.0 | 1.0 | 1000 | 3000 |   0   |\n",
       " |   7e-05   | 1.0 | 1.0 | 1000 | 3000 |   0   |\n",
       " |   8e-05   | 1.0 | 1.0 | 1000 | 3000 |   0   |\n",
       " |   9e-05   | 1.0 | 1.0 | 1000 | 3000 |   0   |\n",
       " +-----------+-----+-----+------+------+-------+\n",
       " [400004 rows x 6 columns]\n",
       " Note: Only the head of the SFrame is printed.\n",
       " You can use print_rows(num_rows=m, num_columns=n) to print more rows and columns.}"
      ]
     },
     "execution_count": 158,
     "metadata": {},
     "output_type": "execute_result"
    }
   ],
   "source": [
    "raw_pixel_model.evaluate(image_test)"
   ]
  },
  {
   "cell_type": "code",
   "execution_count": 159,
   "metadata": {},
   "outputs": [
    {
     "data": {
      "text/plain": [
       "0.477"
      ]
     },
     "execution_count": 159,
     "metadata": {},
     "output_type": "execute_result"
    }
   ],
   "source": [
    "raw_pixel_norm_model.evaluate(image_test)['accuracy']"
   ]
  },
  {
   "cell_type": "code",
   "execution_count": 160,
   "metadata": {},
   "outputs": [
    {
     "data": {
      "text/plain": [
       "0.49925"
      ]
     },
     "execution_count": 160,
     "metadata": {},
     "output_type": "execute_result"
    }
   ],
   "source": [
    "raw_pixel_norm_20_model.evaluate(image_test)['accuracy']"
   ]
  },
  {
   "cell_type": "code",
   "execution_count": 161,
   "metadata": {},
   "outputs": [
    {
     "data": {
      "text/plain": [
       "0.451"
      ]
     },
     "execution_count": 161,
     "metadata": {},
     "output_type": "execute_result"
    }
   ],
   "source": [
    "raw_pixel_norm_50_model.evaluate(image_test)['accuracy']"
   ]
  },
  {
   "cell_type": "code",
   "execution_count": 162,
   "metadata": {},
   "outputs": [
    {
     "data": {
      "text/plain": [
       "0.4625"
      ]
     },
     "execution_count": 162,
     "metadata": {},
     "output_type": "execute_result"
    }
   ],
   "source": [
    "raw_pixel_norm_100_model.evaluate(image_test)['accuracy']"
   ]
  },
  {
   "cell_type": "code",
   "execution_count": 163,
   "metadata": {},
   "outputs": [
    {
     "data": {
      "text/plain": [
       "0.43625"
      ]
     },
     "execution_count": 163,
     "metadata": {},
     "output_type": "execute_result"
    }
   ],
   "source": [
    "raw_pixel_norm_200_model.evaluate(image_test)['accuracy']"
   ]
  },
  {
   "cell_type": "markdown",
   "metadata": {},
   "source": [
    "## Quiz\n",
    "\n",
    "노멀라이즈 데이터를 적용한 모델의 iteration을 높여 가니 20회에서 최고점을 찍고 이후로는 점점 정확도가 떨어지는 것을 확인할 수 있습니다. 왜일까요?"
   ]
  },
  {
   "cell_type": "code",
   "execution_count": null,
   "metadata": {},
   "outputs": [],
   "source": []
  },
  {
   "cell_type": "markdown",
   "metadata": {},
   "source": [
    "# 암울한 결과....\n",
    "\n",
    "max_iterations 값을 높여 봐도 테스트 세트에서 정확도가 올라가지 않는다는 것을 확인했습니다. \n",
    "\n",
    "아무리 노력을 해도 모델의 정확도가 50%이하로 밖에 나오질 않습니다. ㅠ.ㅜ\n",
    "\n",
    "이제 어떻게 해야 할까요?"
   ]
  },
  {
   "cell_type": "markdown",
   "metadata": {},
   "source": [
    "## deep features를 이용해서 모델을 개선할 수 있을까요?\n",
    "\n",
    "학습 데이터가 2,005개 밖에 없기 때문에 deep learning 모델을 학습시킬 수는 없습니다. 그래서 전체 ImageNet 데이터 세트를 통해 학습된 deep features를 이용해서 우리가 가지고 있는 작은 학습 데이터를 학습시켜 간단한 모델을 만들고자 합니다. 이를 **transfer learning**이라고 부릅니다."
   ]
  },
  {
   "cell_type": "markdown",
   "metadata": {},
   "source": [
    "## 미리 생성된 모델을 이용하여 학습 데이터에 대한 deep features를 계산하기\n",
    "\n",
    "이하의 2줄은 다른 데이터로 미리 학습된 deep learning 모델을 우리 학습 데이터에 적용하여 deep features를 생성하는 코드입니다. (하지만 시간이 너무 오래 걸리기 때문에 이하의 과정은 생략하고 학습 데이터에 미리 저장해 둔 deep_features 컬럼의 데이터를 사용합니다.)"
   ]
  },
  {
   "cell_type": "code",
   "execution_count": 66,
   "metadata": {},
   "outputs": [],
   "source": [
    "# deep_learning_model = graphlab.load_model('http://s3.amazonaws.com/GraphLab-Datasets/deeplearning/imagenet_model_iter45')\n",
    "# image_train['deep_features'] = deep_learning_model.extract_features(image_train)"
   ]
  },
  {
   "cell_type": "markdown",
   "metadata": {},
   "source": [
    "학습 데이터에서 deep_features 컬럼의 내용을 살펴 봅시다. 이 학습 데이터에 미리 계산된 deep features값이 저장되어 있는 것을 확인할 수 있습니다."
   ]
  },
  {
   "cell_type": "code",
   "execution_count": null,
   "metadata": {},
   "outputs": [],
   "source": []
  },
  {
   "cell_type": "markdown",
   "metadata": {},
   "source": [
    "이 deep features를 이용해서 logistic_classifier 모델을 만들어 봅시다.\n",
    "\n",
    "이 모델을 **deep_feature_model**에 저장합시다."
   ]
  },
  {
   "cell_type": "code",
   "execution_count": null,
   "metadata": {},
   "outputs": [],
   "source": []
  },
  {
   "cell_type": "markdown",
   "metadata": {},
   "source": [
    "주목해야 할 메시지가 있습니다.\n",
    "\n",
    "    Number of feature columns   : 1\n",
    "    \n",
    "    Number of unpacked features : 4096\n",
    "    \n",
    "    Number of coefficients    : 12291\n",
    "    \n",
    "deep features에 속한 피쳐의 수가 4,096개입니다."
   ]
  },
  {
   "cell_type": "markdown",
   "metadata": {},
   "source": [
    "이전과 마찬가지로 max_iterations를 높여 볼 수 있겠네요.\n",
    "\n",
    "    TERMINATED: Iteration limit reached.\n",
    "    \n",
    "    This model may not be optimal. To improve it, consider increasing `max_iterations`."
   ]
  },
  {
   "cell_type": "markdown",
   "metadata": {},
   "source": [
    "deep features를 이용하니 정확도가 무려 86.98%로 올라갔네요. 하지만 테스트 데이터에 적용해 보기 전에는 확신할 수 없습니다."
   ]
  },
  {
   "cell_type": "markdown",
   "metadata": {},
   "source": [
    "## 테스트 데이터에 deep features model 적용하기"
   ]
  },
  {
   "cell_type": "markdown",
   "metadata": {},
   "source": [
    "테스트 데이터의 처음 3개 이미지를 화면에 출력해 봅시다."
   ]
  },
  {
   "cell_type": "code",
   "execution_count": null,
   "metadata": {},
   "outputs": [],
   "source": []
  },
  {
   "cell_type": "markdown",
   "metadata": {},
   "source": [
    "이 3개 이미지를 deep_feature_model로 예측해 봅시다."
   ]
  },
  {
   "cell_type": "code",
   "execution_count": null,
   "metadata": {},
   "outputs": [],
   "source": []
  },
  {
   "cell_type": "markdown",
   "metadata": {},
   "source": [
    "3개 이미지 모두에 대해서 정확하게 레이블을 맞췄나요? 와우!!! 뭔가 가능성이 보입니다."
   ]
  },
  {
   "cell_type": "markdown",
   "metadata": {},
   "source": [
    "## deep features model의 정확도를 계산하기"
   ]
  },
  {
   "cell_type": "markdown",
   "metadata": {},
   "source": [
    "이제 전체 테스트 데이터를 이용해서 이 모델을 검증해 봅시다.\n",
    "\n",
    "    model.evalaute(데이터)"
   ]
  },
  {
   "cell_type": "code",
   "execution_count": null,
   "metadata": {},
   "outputs": [],
   "source": []
  },
  {
   "cell_type": "markdown",
   "metadata": {},
   "source": [
    "deep_feature_model이 테스트 세트에 대해서 **78.575%의 정확도**를 보이는 것을 확인할 수 있습니다. 브라보!!!"
   ]
  },
  {
   "cell_type": "markdown",
   "metadata": {},
   "source": [
    "## Quiz\n",
    "\n",
    "이제 무엇을 더해 볼 수 있을까요? 다양한 방법으로 통해서 정확도를 최대한도로 높여 보세요.\n",
    "\n",
    "**최소한 78.9% 이상을 얻으세요.**"
   ]
  },
  {
   "cell_type": "code",
   "execution_count": null,
   "metadata": {},
   "outputs": [],
   "source": []
  },
  {
   "cell_type": "code",
   "execution_count": null,
   "metadata": {},
   "outputs": [],
   "source": []
  },
  {
   "cell_type": "markdown",
   "metadata": {},
   "source": [
    "#### (참고) evaluate 메소드로 정확도를 구하다가 에러가 나는 경우 아래의 구문을 이용하세요.\n",
    "\n",
    "    corrects = (model.predict(image_test) == image_test['label']).sum()\n",
    "    print \"Accuracy: \", corrects/float(len(image_test))"
   ]
  },
  {
   "cell_type": "markdown",
   "metadata": {},
   "source": [
    "# Programming Assignment\n",
    "\n",
    "**이하의 내용은 'W6b - Deep Features for Image Retrieval'를 마친 후에 진행하세요.**"
   ]
  },
  {
   "cell_type": "markdown",
   "metadata": {},
   "source": [
    "## Quiz1\n",
    "학습 데이터에 가장 적은 카테고리는 무엇인가요?\n",
    "\n",
    "    SArray.sketch_summary()"
   ]
  },
  {
   "cell_type": "code",
   "execution_count": null,
   "metadata": {},
   "outputs": [],
   "source": []
  },
  {
   "cell_type": "markdown",
   "metadata": {},
   "source": [
    "#### (대안) sketch_summary를 사용하지 않는 방법"
   ]
  },
  {
   "cell_type": "code",
   "execution_count": 49,
   "metadata": {},
   "outputs": [
    {
     "name": "stdout",
     "output_type": "stream",
     "text": [
      "{'automobile': 509, 'dog': 509, 'bird': 478, 'cat': 509}\n"
     ]
    }
   ],
   "source": [
    "label_dict = {}\n",
    "for row in image_train:\n",
    "    label = row['label']\n",
    "    if label in label_dict:\n",
    "        label_dict[label] += 1\n",
    "    else:\n",
    "        label_dict[label] = 1\n",
    "print(label_dict)"
   ]
  },
  {
   "cell_type": "markdown",
   "metadata": {},
   "source": [
    "# 특정 카테고리만을 위한 이미지 조회 모델 만들기 \n",
    "\n",
    "각각의 레이블만을 위한 이미지 조회 모델을 만들고자 합니다. 이를 위해서 학습 데이터를 4가지 레이블별로 나눈 다음, 나눠진 해당 데이터만을 이용해서 각 레이블별 모델을 학습니다. 이렇게 하면 학습 시간을 현저히 줄일 수 있습니다. "
   ]
  },
  {
   "cell_type": "markdown",
   "metadata": {},
   "source": [
    "## 각 레이블별 학습 데이터 세트 만들기\n",
    "\n",
    "필터링을 이용해서 4개의 레이블별 학습 데이터 세트를 만듭니다.\n",
    "\n",
    "1. 4개 학습데이터를 개별적으로 만들기 (ex. image_train_dog, image_train_cat)\n",
    "2. for-loop를 이용해서 4개의 학습 데이터를 하나의 dictionary에 레이블을 key로, 데이터를 value로 저장하면 됩니다.\n",
    "\n",
    "이하에서는 2번째 방법을 사용하고자 합니다. 어려운 경우 1번 방법을 사용하세요."
   ]
  },
  {
   "cell_type": "code",
   "execution_count": 74,
   "metadata": {},
   "outputs": [
    {
     "name": "stdout",
     "output_type": "stream",
     "text": [
      "['automobile', 'dog', 'bird', 'cat']\n"
     ]
    }
   ],
   "source": [
    "## key로 사용할 레이블 뽑기. 직접 만들어도 됩니다.\n",
    "labels = label_dict.keys()\n",
    "print(labels)"
   ]
  },
  {
   "cell_type": "markdown",
   "metadata": {},
   "source": [
    "### 4개의 레이블별 학습 데이터 세트 만들어서 dictionary에 저장하기\n",
    "\n",
    "- 먼저 사용하고자 하는 dictionary를 먼저 선언합니다. dictionary는 사용 전에 선언이 되어 있지 않으면 에러가 납니다. 이때 변수명은 **image_train_for_specific_label**을 사용합시다.\n",
    "        \n",
    "\n",
    "- 그런 다음 for-loop를 이용해서 각 레이블별로\n",
    "    - 전체 학습 데이터 중에 해당 레이블에 해당하는 학습 데이터만을 골라 내고,\n",
    "    - 그 결과값을 새로운 dictionary에 해당 레이블을 key로, 데이터 세트를 value로 저장합니다.\n",
    "\n",
    "    dictionary[key] = value"
   ]
  },
  {
   "cell_type": "code",
   "execution_count": null,
   "metadata": {},
   "outputs": [],
   "source": []
  },
  {
   "cell_type": "markdown",
   "metadata": {},
   "source": [
    "dictionary를 출력해서 잘 만들어졌는지 확인해 봅시다."
   ]
  },
  {
   "cell_type": "code",
   "execution_count": 80,
   "metadata": {},
   "outputs": [
    {
     "name": "stdout",
     "output_type": "stream",
     "text": [
      "{'automobile': Columns:\n",
      "\tid\tint\n",
      "\timage\tImage\n",
      "\tlabel\tstr\n",
      "\tdeep_features\tarray\n",
      "\timage_array\tarray\n",
      "\timage_array_norm\tarray\n",
      "\n",
      "Rows: 509\n",
      "\n",
      "Data:\n",
      "+------+----------------------+------------+-------------------------------+\n",
      "|  id  |        image         |   label    |         deep_features         |\n",
      "+------+----------------------+------------+-------------------------------+\n",
      "|  97  | Height: 32 Width: 32 | automobile | [1.57818555832, 0.0, 0.0, ... |\n",
      "| 136  | Height: 32 Width: 32 | automobile | [0.0, 0.0, 0.0, 0.0, 0.0, ... |\n",
      "| 302  | Height: 32 Width: 32 | automobile | [0.583938002586, 0.0, 0.0,... |\n",
      "| 312  | Height: 32 Width: 32 | automobile | [0.0, 0.0, 0.0, 0.39282339... |\n",
      "| 323  | Height: 32 Width: 32 | automobile | [0.0, 0.0, 0.0, 4.42310428... |\n",
      "| 536  | Height: 32 Width: 32 | automobile | [0.0, 0.0, 0.0, 0.0, 0.0, ... |\n",
      "| 593  | Height: 32 Width: 32 | automobile | [1.65033948421, 0.0, 0.0, ... |\n",
      "| 962  | Height: 32 Width: 32 | automobile | [0.0, 0.0, 0.0, 0.39552795... |\n",
      "| 997  | Height: 32 Width: 32 | automobile | [0.0, 0.0, 0.0, 0.0, 0.0, ... |\n",
      "| 1421 | Height: 32 Width: 32 | automobile | [0.0, 0.0, 0.0, 0.0, 0.0, ... |\n",
      "+------+----------------------+------------+-------------------------------+\n",
      "+-------------------------------+-------------------------------+\n",
      "|          image_array          |        image_array_norm       |\n",
      "+-------------------------------+-------------------------------+\n",
      "| [33.0, 44.0, 27.0, 29.0, 4... | [0.12890625, 0.171875, 0.1... |\n",
      "| [35.0, 59.0, 53.0, 36.0, 5... | [0.13671875, 0.23046875, 0... |\n",
      "| [64.0, 52.0, 37.0, 85.0, 6... | [0.25, 0.203125, 0.1445312... |\n",
      "| [124.0, 126.0, 113.0, 124.... | [0.484375, 0.4921875, 0.44... |\n",
      "| [241.0, 241.0, 241.0, 238.... | [0.94140625, 0.94140625, 0... |\n",
      "| [164.0, 154.0, 154.0, 128.... | [0.640625, 0.6015625, 0.60... |\n",
      "| [231.0, 222.0, 227.0, 232.... | [0.90234375, 0.8671875, 0.... |\n",
      "| [255.0, 255.0, 255.0, 255.... | [0.99609375, 0.99609375, 0... |\n",
      "| [145.0, 148.0, 157.0, 131.... | [0.56640625, 0.578125, 0.6... |\n",
      "| [114.0, 95.0, 33.0, 118.0,... | [0.4453125, 0.37109375, 0.... |\n",
      "+-------------------------------+-------------------------------+\n",
      "[509 rows x 6 columns]\n",
      "Note: Only the head of the SFrame is printed.\n",
      "You can use print_rows(num_rows=m, num_columns=n) to print more rows and columns., 'cat': Columns:\n",
      "\tid\tint\n",
      "\timage\tImage\n",
      "\tlabel\tstr\n",
      "\tdeep_features\tarray\n",
      "\timage_array\tarray\n",
      "\timage_array_norm\tarray\n",
      "\n",
      "Rows: 509\n",
      "\n",
      "Data:\n",
      "+-----+----------------------+-------+-------------------------------+\n",
      "|  id |        image         | label |         deep_features         |\n",
      "+-----+----------------------+-------+-------------------------------+\n",
      "|  33 | Height: 32 Width: 32 |  cat  | [0.525087952614, 0.0, 0.0,... |\n",
      "|  36 | Height: 32 Width: 32 |  cat  | [0.566015958786, 0.0, 0.0,... |\n",
      "| 159 | Height: 32 Width: 32 |  cat  | [0.0, 0.0, 0.0, 0.64327532... |\n",
      "| 331 | Height: 32 Width: 32 |  cat  | [0.0, 0.0, 0.510963916779,... |\n",
      "| 367 | Height: 32 Width: 32 |  cat  | [1.38658058643, 0.0, 0.0, ... |\n",
      "| 384 | Height: 32 Width: 32 |  cat  | [1.04403531551, 0.0, 0.0, ... |\n",
      "| 494 | Height: 32 Width: 32 |  cat  | [0.0, 0.0539512038231, 1.9... |\n",
      "| 597 | Height: 32 Width: 32 |  cat  | [0.0, 0.0, 0.0470637083054... |\n",
      "| 788 | Height: 32 Width: 32 |  cat  | [0.505841910839, 0.0, 0.0,... |\n",
      "| 882 | Height: 32 Width: 32 |  cat  | [0.0, 0.0, 0.156200289726,... |\n",
      "+-----+----------------------+-------+-------------------------------+\n",
      "+-------------------------------+-------------------------------+\n",
      "|          image_array          |        image_array_norm       |\n",
      "+-------------------------------+-------------------------------+\n",
      "| [7.0, 5.0, 8.0, 7.0, 5.0, ... | [0.02734375, 0.01953125, 0... |\n",
      "| [169.0, 122.0, 65.0, 131.0... | [0.66015625, 0.4765625, 0.... |\n",
      "| [154.0, 145.0, 135.0, 152.... | [0.6015625, 0.56640625, 0.... |\n",
      "| [45.0, 65.0, 92.0, 72.0, 9... | [0.17578125, 0.25390625, 0... |\n",
      "| [168.0, 151.0, 143.0, 145.... | [0.65625, 0.58984375, 0.55... |\n",
      "| [46.0, 45.0, 50.0, 47.0, 4... | [0.1796875, 0.17578125, 0.... |\n",
      "| [26.0, 34.0, 29.0, 24.0, 2... | [0.1015625, 0.1328125, 0.1... |\n",
      "| [133.0, 153.0, 138.0, 126.... | [0.51953125, 0.59765625, 0... |\n",
      "| [184.0, 200.0, 197.0, 189.... | [0.71875, 0.78125, 0.76953... |\n",
      "| [141.0, 133.0, 112.0, 143.... | [0.55078125, 0.51953125, 0... |\n",
      "+-------------------------------+-------------------------------+\n",
      "[509 rows x 6 columns]\n",
      "Note: Only the head of the SFrame is printed.\n",
      "You can use print_rows(num_rows=m, num_columns=n) to print more rows and columns., 'dog': Columns:\n",
      "\tid\tint\n",
      "\timage\tImage\n",
      "\tlabel\tstr\n",
      "\tdeep_features\tarray\n",
      "\timage_array\tarray\n",
      "\timage_array_norm\tarray\n",
      "\n",
      "Rows: 509\n",
      "\n",
      "Data:\n",
      "+------+----------------------+-------+-------------------------------+\n",
      "|  id  |        image         | label |         deep_features         |\n",
      "+------+----------------------+-------+-------------------------------+\n",
      "|  70  | Height: 32 Width: 32 |  dog  | [1.12979578972, 0.0, 0.0, ... |\n",
      "| 107  | Height: 32 Width: 32 |  dog  | [0.0, 0.0, 0.220677852631,... |\n",
      "| 177  | Height: 32 Width: 32 |  dog  | [0.0, 1.45965671539, 0.0, ... |\n",
      "| 424  | Height: 32 Width: 32 |  dog  | [0.942399680614, 0.0, 0.22... |\n",
      "| 462  | Height: 32 Width: 32 |  dog  | [1.43462562561, 0.0, 0.0, ... |\n",
      "| 542  | Height: 32 Width: 32 |  dog  | [0.451547086239, 0.0, 0.0,... |\n",
      "| 573  | Height: 32 Width: 32 |  dog  | [0.592360973358, 0.0, 0.0,... |\n",
      "| 851  | Height: 32 Width: 32 |  dog  | [0.690123438835, 0.0, 0.0,... |\n",
      "| 919  | Height: 32 Width: 32 |  dog  | [0.0, 0.177558660507, 0.13... |\n",
      "| 1172 | Height: 32 Width: 32 |  dog  | [0.517601490021, 0.0, 1.96... |\n",
      "+------+----------------------+-------+-------------------------------+\n",
      "+-------------------------------+-------------------------------+\n",
      "|          image_array          |        image_array_norm       |\n",
      "+-------------------------------+-------------------------------+\n",
      "| [154.0, 179.0, 152.0, 159.... | [0.6015625, 0.69921875, 0.... |\n",
      "| [97.0, 51.0, 31.0, 104.0, ... | [0.37890625, 0.19921875, 0... |\n",
      "| [55.0, 75.0, 42.0, 51.0, 7... | [0.21484375, 0.29296875, 0... |\n",
      "| [60.0, 35.0, 18.0, 63.0, 4... | [0.234375, 0.13671875, 0.0... |\n",
      "| [86.0, 69.0, 75.0, 57.0, 4... | [0.3359375, 0.26953125, 0.... |\n",
      "| [196.0, 174.0, 113.0, 140.... | [0.765625, 0.6796875, 0.44... |\n",
      "| [153.0, 103.0, 52.0, 151.0... | [0.59765625, 0.40234375, 0... |\n",
      "| [39.0, 6.0, 4.0, 53.0, 23.... | [0.15234375, 0.0234375, 0.... |\n",
      "| [29.0, 43.0, 4.0, 24.0, 35... | [0.11328125, 0.16796875, 0... |\n",
      "| [182.0, 180.0, 197.0, 196.... | [0.7109375, 0.703125, 0.76... |\n",
      "+-------------------------------+-------------------------------+\n",
      "[509 rows x 6 columns]\n",
      "Note: Only the head of the SFrame is printed.\n",
      "You can use print_rows(num_rows=m, num_columns=n) to print more rows and columns., 'bird': Columns:\n",
      "\tid\tint\n",
      "\timage\tImage\n",
      "\tlabel\tstr\n",
      "\tdeep_features\tarray\n",
      "\timage_array\tarray\n",
      "\timage_array_norm\tarray\n",
      "\n",
      "Rows: 478\n",
      "\n",
      "Data:\n",
      "+-----+----------------------+-------+-------------------------------+\n",
      "|  id |        image         | label |         deep_features         |\n",
      "+-----+----------------------+-------+-------------------------------+\n",
      "|  24 | Height: 32 Width: 32 |  bird | [0.242871761322, 1.0954537... |\n",
      "|  90 | Height: 32 Width: 32 |  bird | [1.71786928177, 0.0, 0.0, ... |\n",
      "| 121 | Height: 32 Width: 32 |  bird | [0.0, 0.23753464222, 0.0, ... |\n",
      "| 138 | Height: 32 Width: 32 |  bird | [0.658935725689, 0.0, 0.0,... |\n",
      "| 335 | Height: 32 Width: 32 |  bird | [0.0, 0.0, 0.0, 0.0, 0.0, ... |\n",
      "| 560 | Height: 32 Width: 32 |  bird | [1.69159495831, 0.0, 0.0, ... |\n",
      "| 649 | Height: 32 Width: 32 |  bird | [0.511156201363, 0.3241650... |\n",
      "| 775 | Height: 32 Width: 32 |  bird | [0.0, 0.0, 0.0, 0.0, 0.0, ... |\n",
      "| 802 | Height: 32 Width: 32 |  bird | [0.277166724205, 0.0, 0.0,... |\n",
      "| 975 | Height: 32 Width: 32 |  bird | [0.0, 0.0336718559265, 0.0... |\n",
      "+-----+----------------------+-------+-------------------------------+\n",
      "+-------------------------------+-------------------------------+\n",
      "|          image_array          |        image_array_norm       |\n",
      "+-------------------------------+-------------------------------+\n",
      "| [73.0, 77.0, 58.0, 71.0, 6... | [0.28515625, 0.30078125, 0... |\n",
      "| [216.0, 195.0, 180.0, 201.... | [0.84375, 0.76171875, 0.70... |\n",
      "| [93.0, 96.0, 88.0, 102.0, ... | [0.36328125, 0.375, 0.3437... |\n",
      "| [205.0, 193.0, 195.0, 200.... | [0.80078125, 0.75390625, 0... |\n",
      "| [160.0, 159.0, 154.0, 162.... | [0.625, 0.62109375, 0.6015... |\n",
      "| [147.0, 138.0, 88.0, 151.0... | [0.57421875, 0.5390625, 0.... |\n",
      "| [65.0, 127.0, 9.0, 127.0, ... | [0.25390625, 0.49609375, 0... |\n",
      "| [29.0, 41.0, 25.0, 29.0, 4... | [0.11328125, 0.16015625, 0... |\n",
      "| [233.0, 230.0, 173.0, 222.... | [0.91015625, 0.8984375, 0.... |\n",
      "| [59.0, 180.0, 110.0, 88.0,... | [0.23046875, 0.703125, 0.4... |\n",
      "+-------------------------------+-------------------------------+\n",
      "[478 rows x 6 columns]\n",
      "Note: Only the head of the SFrame is printed.\n",
      "You can use print_rows(num_rows=m, num_columns=n) to print more rows and columns.}\n"
     ]
    }
   ],
   "source": [
    "print(image_train_for_specific_label)"
   ]
  },
  {
   "cell_type": "markdown",
   "metadata": {},
   "source": [
    "너무 많아서 확인이 어렵습니다. dictionary에 dog을 key값으로 설정해서 출력해 봅시다."
   ]
  },
  {
   "cell_type": "code",
   "execution_count": null,
   "metadata": {},
   "outputs": [],
   "source": []
  },
  {
   "cell_type": "markdown",
   "metadata": {},
   "source": [
    "## 레이블별 전문 모델 만들기\n",
    "이제 각 레이블별 전문 모델을 만들어야 합니다. 위에서와 마찬가지로 2가지 방법이 있습니다.\n",
    "\n",
    "1. 4개 모델을 개별적으로 만들기 (ex. dog_model, cat_model)\n",
    "2. 각 모델을 for-loop를 이용해서 만들면서 하나의 dictionary에 저장하기. 레이블을 key로, 모델을 value로 저장하면 됩니다.\n",
    "\n",
    "이하에서는 2번째 방법을 사용하고자 합니다. 어려운 경우 1번 방법을 사용하세요."
   ]
  },
  {
   "cell_type": "markdown",
   "metadata": {},
   "source": [
    "### 4개의 레이블별 전문 모델 만들어서 dictionary에 저장하기\n",
    "\n",
    "- 먼저 사용하고자 하는 dictionary를 먼저 선언합니다. dictionary는 사용 전에 선언이 되어 있지 않으면 에러가 납니다. 이때 변수명은 **label_specific_models**을 사용합시다.\n",
    "        \n",
    "        \n",
    "- 그런 다음 for-loop를 이용해서 각 레이블별로\n",
    "    - 근접 이웃을 구하는 모델을 학습합니다.\n",
    "    \n",
    "            graphlab.nearest_neighbors.create(학습데이터, features=사용하고자하는피쳐리스트, label=레이블컬럼이름)\n",
    "        \n",
    "    - 학습된 모델을 새로운 dictionary에 해당 레이블을 key로, 모델을 value로 저장합니다."
   ]
  },
  {
   "cell_type": "code",
   "execution_count": null,
   "metadata": {},
   "outputs": [],
   "source": []
  },
  {
   "cell_type": "code",
   "execution_count": null,
   "metadata": {},
   "outputs": [],
   "source": []
  },
  {
   "cell_type": "markdown",
   "metadata": {},
   "source": [
    "## Quiz 2\n",
    "\n",
    "아래 이미지 중에서 테스트 데이터의 첫번째 이미지 (image_test[0:1])에 가장 가까운 학습 데이터의 'cat' 레이블 이미지는 어느 것인가요?\n",
    "\n",
    "참고: 퀴즈에서 보기로 주어지는 이미지를 참고하세요."
   ]
  },
  {
   "cell_type": "code",
   "execution_count": null,
   "metadata": {},
   "outputs": [],
   "source": []
  },
  {
   "cell_type": "code",
   "execution_count": null,
   "metadata": {},
   "outputs": [],
   "source": []
  },
  {
   "cell_type": "code",
   "execution_count": null,
   "metadata": {},
   "outputs": [],
   "source": []
  },
  {
   "cell_type": "code",
   "execution_count": null,
   "metadata": {
    "scrolled": true
   },
   "outputs": [],
   "source": []
  },
  {
   "cell_type": "code",
   "execution_count": null,
   "metadata": {},
   "outputs": [],
   "source": []
  },
  {
   "cell_type": "markdown",
   "metadata": {},
   "source": [
    "## Quiz 3\n",
    "\n",
    "아래 이미지 중에서 테스트 데이터의 첫번째 이미지 (image_test[0:1])에 가장 가까운 학습 데이터의 'dog' 레이블 이미지는 어느 것인가요?\n",
    "\n",
    "참고: 퀴즈에서 보기로 주어지는 이미지를 참고하세요."
   ]
  },
  {
   "cell_type": "code",
   "execution_count": 57,
   "metadata": {
    "scrolled": true
   },
   "outputs": [
    {
     "data": {
      "text/html": [
       "<pre>Starting pairwise querying.</pre>"
      ],
      "text/plain": [
       "Starting pairwise querying."
      ]
     },
     "metadata": {},
     "output_type": "display_data"
    },
    {
     "data": {
      "text/html": [
       "<pre>+--------------+---------+-------------+--------------+</pre>"
      ],
      "text/plain": [
       "+--------------+---------+-------------+--------------+"
      ]
     },
     "metadata": {},
     "output_type": "display_data"
    },
    {
     "data": {
      "text/html": [
       "<pre>| Query points | # Pairs | % Complete. | Elapsed Time |</pre>"
      ],
      "text/plain": [
       "| Query points | # Pairs | % Complete. | Elapsed Time |"
      ]
     },
     "metadata": {},
     "output_type": "display_data"
    },
    {
     "data": {
      "text/html": [
       "<pre>+--------------+---------+-------------+--------------+</pre>"
      ],
      "text/plain": [
       "+--------------+---------+-------------+--------------+"
      ]
     },
     "metadata": {},
     "output_type": "display_data"
    },
    {
     "data": {
      "text/html": [
       "<pre>| 0            | 1       | 0.196464    | 19.345ms     |</pre>"
      ],
      "text/plain": [
       "| 0            | 1       | 0.196464    | 19.345ms     |"
      ]
     },
     "metadata": {},
     "output_type": "display_data"
    },
    {
     "data": {
      "text/html": [
       "<pre>| Done         |         | 100         | 101.285ms    |</pre>"
      ],
      "text/plain": [
       "| Done         |         | 100         | 101.285ms    |"
      ]
     },
     "metadata": {},
     "output_type": "display_data"
    },
    {
     "data": {
      "text/html": [
       "<pre>+--------------+---------+-------------+--------------+</pre>"
      ],
      "text/plain": [
       "+--------------+---------+-------------+--------------+"
      ]
     },
     "metadata": {},
     "output_type": "display_data"
    },
    {
     "data": {
      "text/html": [
       "<div style=\"max-height:1000px;max-width:1500px;overflow:auto;\"><table frame=\"box\" rules=\"cols\">\n",
       "    <tr>\n",
       "        <th style=\"padding-left: 1em; padding-right: 1em; text-align: center\">query_label</th>\n",
       "        <th style=\"padding-left: 1em; padding-right: 1em; text-align: center\">reference_label</th>\n",
       "        <th style=\"padding-left: 1em; padding-right: 1em; text-align: center\">distance</th>\n",
       "        <th style=\"padding-left: 1em; padding-right: 1em; text-align: center\">rank</th>\n",
       "    </tr>\n",
       "    <tr>\n",
       "        <td style=\"padding-left: 1em; padding-right: 1em; text-align: center; vertical-align: top\">0</td>\n",
       "        <td style=\"padding-left: 1em; padding-right: 1em; text-align: center; vertical-align: top\">16976</td>\n",
       "        <td style=\"padding-left: 1em; padding-right: 1em; text-align: center; vertical-align: top\">37.4642628784</td>\n",
       "        <td style=\"padding-left: 1em; padding-right: 1em; text-align: center; vertical-align: top\">1</td>\n",
       "    </tr>\n",
       "    <tr>\n",
       "        <td style=\"padding-left: 1em; padding-right: 1em; text-align: center; vertical-align: top\">0</td>\n",
       "        <td style=\"padding-left: 1em; padding-right: 1em; text-align: center; vertical-align: top\">13387</td>\n",
       "        <td style=\"padding-left: 1em; padding-right: 1em; text-align: center; vertical-align: top\">37.5666832169</td>\n",
       "        <td style=\"padding-left: 1em; padding-right: 1em; text-align: center; vertical-align: top\">2</td>\n",
       "    </tr>\n",
       "    <tr>\n",
       "        <td style=\"padding-left: 1em; padding-right: 1em; text-align: center; vertical-align: top\">0</td>\n",
       "        <td style=\"padding-left: 1em; padding-right: 1em; text-align: center; vertical-align: top\">35867</td>\n",
       "        <td style=\"padding-left: 1em; padding-right: 1em; text-align: center; vertical-align: top\">37.6047267079</td>\n",
       "        <td style=\"padding-left: 1em; padding-right: 1em; text-align: center; vertical-align: top\">3</td>\n",
       "    </tr>\n",
       "    <tr>\n",
       "        <td style=\"padding-left: 1em; padding-right: 1em; text-align: center; vertical-align: top\">0</td>\n",
       "        <td style=\"padding-left: 1em; padding-right: 1em; text-align: center; vertical-align: top\">44603</td>\n",
       "        <td style=\"padding-left: 1em; padding-right: 1em; text-align: center; vertical-align: top\">37.7065585153</td>\n",
       "        <td style=\"padding-left: 1em; padding-right: 1em; text-align: center; vertical-align: top\">4</td>\n",
       "    </tr>\n",
       "    <tr>\n",
       "        <td style=\"padding-left: 1em; padding-right: 1em; text-align: center; vertical-align: top\">0</td>\n",
       "        <td style=\"padding-left: 1em; padding-right: 1em; text-align: center; vertical-align: top\">6094</td>\n",
       "        <td style=\"padding-left: 1em; padding-right: 1em; text-align: center; vertical-align: top\">38.5113254907</td>\n",
       "        <td style=\"padding-left: 1em; padding-right: 1em; text-align: center; vertical-align: top\">5</td>\n",
       "    </tr>\n",
       "</table>\n",
       "[5 rows x 4 columns]<br/>\n",
       "</div>"
      ],
      "text/plain": [
       "Columns:\n",
       "\tquery_label\tint\n",
       "\treference_label\tint\n",
       "\tdistance\tfloat\n",
       "\trank\tint\n",
       "\n",
       "Rows: 5\n",
       "\n",
       "Data:\n",
       "+-------------+-----------------+---------------+------+\n",
       "| query_label | reference_label |    distance   | rank |\n",
       "+-------------+-----------------+---------------+------+\n",
       "|      0      |      16976      | 37.4642628784 |  1   |\n",
       "|      0      |      13387      | 37.5666832169 |  2   |\n",
       "|      0      |      35867      | 37.6047267079 |  3   |\n",
       "|      0      |      44603      | 37.7065585153 |  4   |\n",
       "|      0      |       6094      | 38.5113254907 |  5   |\n",
       "+-------------+-----------------+---------------+------+\n",
       "[5 rows x 4 columns]"
      ]
     },
     "execution_count": 57,
     "metadata": {},
     "output_type": "execute_result"
    }
   ],
   "source": []
  },
  {
   "cell_type": "code",
   "execution_count": null,
   "metadata": {},
   "outputs": [],
   "source": []
  },
  {
   "cell_type": "markdown",
   "metadata": {},
   "source": [
    "## Quiz 4\n",
    "\n",
    "테스트 데이터의 첫번째 이미지를 기준으로 학습 데이터의 'cat' 이미지 중 5개-근접 이웃들과의 평균적인 거리는 얼마인가요?"
   ]
  },
  {
   "cell_type": "code",
   "execution_count": null,
   "metadata": {},
   "outputs": [],
   "source": []
  },
  {
   "cell_type": "markdown",
   "metadata": {},
   "source": [
    "## Quiz 5\n",
    "\n",
    "테스트 데이터의 첫번째 이미지를 기준으로 학습 데이터의 'dog' 이미지 중 5개-근접 이웃들과의 평균적인 거리는 얼마인가요?"
   ]
  },
  {
   "cell_type": "code",
   "execution_count": null,
   "metadata": {},
   "outputs": [],
   "source": []
  },
  {
   "cell_type": "markdown",
   "metadata": {},
   "source": [
    "## Quiz 6 \n",
    " \n",
    "'cat' 데이터의 5개-근접 이웃들 (5-nearest neighbors)과 'dog' 데이터의 5개-근접 이웃들 중에서 테스트 데이터의 첫번째 이미지가 평균적으로 어느 쪽에 더 가까울까요?"
   ]
  },
  {
   "cell_type": "code",
   "execution_count": null,
   "metadata": {},
   "outputs": [],
   "source": []
  },
  {
   "cell_type": "markdown",
   "metadata": {},
   "source": [
    "### (중급) 답을 출력하는 코드 만들기\n",
    "\n",
    "한 줄의 코드를 이용해서 답을 아래와 같이 출력하는 코드를 만들어 봅시다. \n",
    "- Dog 데이터가 더 가깝다.\n",
    "- Cat 데이터가 더 가깝다.\n",
    "\n",
    "이를 위해서는 아래의 inline if-else를 사용해야 합니다."
   ]
  },
  {
   "cell_type": "markdown",
   "metadata": {},
   "source": [
    "#### inline if-else 사용하기\n",
    "\n",
    "아래와 같이 한줄로 if-else 구문을 만들어서 사용할 수 있습니다.\n",
    "\n",
    "    true인경우값 if (조건문) else false인경우값 \n",
    "\n",
    "아래와 같은 구문을 실행하면 True가 출력됩니다. 직접 입력해 보세요.\n",
    "\n",
    "    print \"True\" if 1 < 2 else \"False\""
   ]
  },
  {
   "cell_type": "code",
   "execution_count": null,
   "metadata": {},
   "outputs": [],
   "source": []
  },
  {
   "cell_type": "markdown",
   "metadata": {},
   "source": [
    "## Quiz 7\n",
    "\n",
    "테스트 세트의 'dog' 이미지를 구분하는 최근접 이웃 구분자 (1-nearest neighbor classifier)의 정확도는 얼마 정도인가요?"
   ]
  },
  {
   "cell_type": "code",
   "execution_count": null,
   "metadata": {},
   "outputs": [],
   "source": []
  },
  {
   "cell_type": "markdown",
   "metadata": {},
   "source": [
    "# 도전 과제\n",
    "\n",
    "이하에서는 하나의 레이블로만 이루어진 테스트 데이터를 이용해서 위에서 만든 레이블별 전문 모델들이 얼마의 정확도를 가지는지를 측정해 보고자 합니댜. 상식적으로 생각해 볼 때 dog 이미지를 이용해서 학습한 모델이 테스트로 주어지는 dog 이미지에 대해서 가장 좋은 성능을 보여야 합니다. 이를 확인하는 것이 이 과제의 내용입니다.\n",
    "\n",
    "- 'dog' 레이블로만 이루어진 테스트 데이터를 만든다.\n",
    "- 위에서 만든 레이블별 전문 모델에 해당 테스트 데이터를 적용해서 최근접 이웃을 구한다.\n",
    "- 구해진 최근접 이웃이 'dog' 레이블에 해당하는지를 확인해서 정확도를 구한다.\n",
    "\n",
    "\n",
    "참고: 이하는 처음에는 헷갈릴 수 있는 내용이지만 실제로는 4개의 변수를 하나의 dictionary에 넣어서 하나의 변수명으로 사용하고자 하는 단순한 목적을 위한 코드가 대부분입니다. 몇번 해 보면 익숙해질 내용이라서 반복적으로 따라 할 수 있도록 과제를 구성했습니다. 혹시라도 너무 어렵게 느껴진다면 1번 방법 - 개별적인 변수로 저장해서 사용해도 - 으로도 먼저 과제를 푼 다음에 도전해 보세요.\n"
   ]
  },
  {
   "cell_type": "markdown",
   "metadata": {},
   "source": [
    "## 각 레이블별 테스트 데이터 세트 만들기\n",
    "\n",
    "먼저 필터링을 이용해서 4개의 레이블별 테스트 데이터 세트를 만듭니다.\n",
    "\n",
    "1. 4개 테스트 데이터를 개별적으로 만들기 (ex. image_test_dog, image_test_cat)\n",
    "2. for-loop를 이용해서 4개의 학습 데이터를 하나의 dictionary에 저장하기. 레이블을 key로, 데이터를 value로 저장하면 됩니다.\n",
    "\n",
    "이하에서는 2번째 방법을 사용하고자 합니다. 어려운 경우 1번 방법을 사용하세요."
   ]
  },
  {
   "cell_type": "markdown",
   "metadata": {},
   "source": [
    "### 4개의 레이블별 데이터 세트 만들어서 dictionary에 저장하기\n",
    "\n",
    "- 먼저 사용하고자 하는 dictionary를 먼저 선언합니다. 선언이 되지 않으면 에러가 납니다. 이때 변수명은 **image_test_for_specific_label**을 사용합시다.\n",
    "        \n",
    "\n",
    "- 그런 다음 for-loop를 이용해서 각 레이블별로\n",
    "    - 전체 테스트 데이터 중에 해당 레이블에 해당하는 테스트 데이터만을 골라 내고,\n",
    "    - 그 결과값을 새로운 dictionary에 해당 레이블을 key로, 데이터 세트를 value로 저장합니다.\n",
    "\n",
    "    dictionary[key] = value"
   ]
  },
  {
   "cell_type": "code",
   "execution_count": null,
   "metadata": {},
   "outputs": [],
   "source": []
  },
  {
   "cell_type": "markdown",
   "metadata": {},
   "source": [
    "4개의 데이터 세트를 저장한 dict를 출력해 봅시다."
   ]
  },
  {
   "cell_type": "code",
   "execution_count": null,
   "metadata": {},
   "outputs": [],
   "source": []
  },
  {
   "cell_type": "markdown",
   "metadata": {},
   "source": [
    "'cat' 레이블에 해당하는 데이터 세트 (SFrame)에 대해서 show 메소드를 실행해 봅시다."
   ]
  },
  {
   "cell_type": "code",
   "execution_count": null,
   "metadata": {
    "scrolled": true
   },
   "outputs": [],
   "source": []
  },
  {
   "cell_type": "markdown",
   "metadata": {},
   "source": [
    "'cat' 레이블 데이터로만 구성된 SFrame의 내용이 화면에 출력되어야 합니다."
   ]
  },
  {
   "cell_type": "markdown",
   "metadata": {},
   "source": [
    "## dog 레이블로만 구성된 테스트 데이터를 이용한 거리 구하기\n",
    "\n",
    "이제 image_test_dog 데이터 - 테스트 데이터 중에서 dog 레이블로만 구성된 서브 데이터 세트 - 만을 이용한 각 레이블별 모델의 거리를 구하고자 합니다. 위에서와 마찬가지로 2가지 방법이 있습니다.\n",
    "\n",
    "1. 4개 거리를 계산한 모델을 개별적으로 구해서 저장하기 (ex. dog_dog_neighbors, dog_cat_neighbors)\n",
    "2. 각 모델을 for-loop를 이용해서 만들면서 하나의 dictionary에 저장하기. 레이블을 key로, 모델을 value로 저장하면 됩니다.\n",
    "\n",
    "이하에서는 2번째 방법을 사용하고자 합니다. 어려운 경우 1번 방법을 사용하세요."
   ]
  },
  {
   "cell_type": "markdown",
   "metadata": {},
   "source": [
    "### 4개의 레이블 별 데이터 세트 만들어서 dictionary에 저장하기\n",
    "\n",
    "- 먼저 사용하고자 하는 dictionary를 먼저 선언합니다. 선언이 되지 않으면 에러가 납니다. 이때 변수명은 **dog_distance_for_specific_label**을 사용합시다.\n",
    "    \n",
    "        \n",
    "    \n",
    "- 그런 다음 for-loop를 이용해서 각 레이블별로\n",
    "    - dog 레이블로만 구성된 테스트 데이터를 해당 레이블의 모델에 적용해서 최근접 이웃을 구하고\n",
    "    - 이 결과값을 새로운 dictionary에 해당 레이블을 key로, 결과값을 value로 저장합니다.\n",
    "    \n",
    "    model.query(학습데이터, k=1)\n",
    "    \n",
    "    dictionary[key] = value\n",
    "\n",
    "최근접 이웃을 구하고자 하므로 k는 1이 됩니다."
   ]
  },
  {
   "cell_type": "code",
   "execution_count": null,
   "metadata": {},
   "outputs": [],
   "source": []
  },
  {
   "cell_type": "markdown",
   "metadata": {},
   "source": [
    "새롭게 만들어진 dictionary의 key로 'dog'을 넣어서 화면에 출력해 봅시다."
   ]
  },
  {
   "cell_type": "code",
   "execution_count": null,
   "metadata": {},
   "outputs": [],
   "source": []
  },
  {
   "cell_type": "markdown",
   "metadata": {},
   "source": [
    "SFrame이 출력되는 것을 확인할 수 있습니다. 여기에서 우리가 주목할 컬럼은 바로 distance입니다."
   ]
  },
  {
   "cell_type": "markdown",
   "metadata": {},
   "source": [
    "## 각 모델의 최근접 이웃과의 거리로 이루어진 SFrame 만들기\n",
    "\n",
    "위에서 출력한 SFrame은 'dog' 레이블로 학습된 모델에 'dog' 레이블로만 구성된 테스트 데이터를 적용했을 때 얻어진 최근접 이웃과 해당 이미지 간의 거리를 'distance' 컬럼에 저장한 데이터 구조입니다. \n",
    "\n",
    "우리는 'dog' 레이블로만 구성된 테스트 데이터를 4개 모델 전체에 적용해서 얻어진 최근접 이웃과의 거리를 비교해서 'dog' 레이블로 학습된 모델에서 최단 거리가 나오는지를 확인하고자 합니다.\n"
   ]
  },
  {
   "cell_type": "markdown",
   "metadata": {},
   "source": [
    "### dog_distance 구하기\n",
    "\n",
    "- 먼저 새로 만들고자 하는 SFrame을 선언합니다. 아래 구문을 이용해서 새로운 SFrame을 선언할 수 있습니다. 이때 **dog_distances**라는 변수명을 사용하세요\n",
    "    \n",
    "    graphlab.SFrame()\n",
    "            \n",
    "    \n",
    "- 그런 다음 for-loop를 이용해서 각 레이블별로\n",
    "    - 해당 레이블의 dog_distance_for_specific_label에서 'distance' 컬럼만을 뜯어 내고\n",
    "    - 이 결과값을 새로운 SFrame의 하나의 컬럼으로 저장합니다.\n",
    "        - 이때 해당 컬럼의 이름은 'dog-dog', 'dog-cat', 'dog-automobile', 'dog-bird'와 같이 만듭니다."
   ]
  },
  {
   "cell_type": "code",
   "execution_count": 4,
   "metadata": {},
   "outputs": [
    {
     "name": "stdout",
     "output_type": "stream",
     "text": [
      "{'key': 3}\n"
     ]
    }
   ],
   "source": [
    "#참고: 아래 코드를 실행해 본 다음에 응용해서 이 문제를 푸세요. dictionary의 key값은 string이어야 합니다.\n",
    "\n",
    "dict_sample = {}\n",
    "dict_sample[\"ke\" + \"y\"] = 3\n",
    "print dict_sample"
   ]
  },
  {
   "cell_type": "code",
   "execution_count": null,
   "metadata": {},
   "outputs": [],
   "source": []
  },
  {
   "cell_type": "markdown",
   "metadata": {},
   "source": [
    "새롭게 만들어진 dog_distance를 출력해 보세요."
   ]
  },
  {
   "cell_type": "code",
   "execution_count": null,
   "metadata": {},
   "outputs": [],
   "source": []
  },
  {
   "cell_type": "markdown",
   "metadata": {},
   "source": [
    "'dog' 이미지로만 구성된 테스트 데이터를 4개의 개별 모델에 적용했을 때 구해진 최근접 이웃과의 거리가 저장된 데이터 세트를 얻었습니다.\n",
    "\n",
    "이제 첫번째 데이터의 거리들만을 출력해 보세요."
   ]
  },
  {
   "cell_type": "code",
   "execution_count": null,
   "metadata": {},
   "outputs": [],
   "source": []
  },
  {
   "cell_type": "markdown",
   "metadata": {},
   "source": [
    "## dog 이미지가 맞는지 확인하기\n",
    "\n",
    "이제 apply를 이용해서 각 줄의 데이터가 dog 이미지가 맞는지를 판별하고자 합니다. 이를 위해 함수를 하나 만들어야 합니다."
   ]
  },
  {
   "cell_type": "markdown",
   "metadata": {},
   "source": [
    "### 개 이미지가 맞는 확인하는 함수 만들기\n",
    "\n",
    "- 함수 이름은 **is_dog_correct**를 사용합시다.\n",
    "- SFrame.apply를 사용하기 때문에 인자로는 SFrame의 한줄을 받게 됩니다.\n",
    "- for-loop를 이용해서 각 컬럼값 별로\n",
    "    - 해당 컬럼의 값이 dog-dog 컬럼의 값보다 작다면 False를 return하고 종료합니다.\n",
    "    - 그렇지 않다면 계속 for-loop를 실행합니다.\n",
    "- 만약 for-loop가 False를 반환하지 않고 끝났다면 True를 return합니다."
   ]
  },
  {
   "cell_type": "code",
   "execution_count": null,
   "metadata": {},
   "outputs": [],
   "source": []
  },
  {
   "cell_type": "markdown",
   "metadata": {},
   "source": [
    "새롭게 만든 is_dog_correct 함수가 잘 작동하는지를 아래의 구문으로 확인해 봅시다."
   ]
  },
  {
   "cell_type": "code",
   "execution_count": null,
   "metadata": {},
   "outputs": [],
   "source": []
  },
  {
   "cell_type": "markdown",
   "metadata": {},
   "source": [
    "원하는 결과 나왔나요?"
   ]
  },
  {
   "cell_type": "markdown",
   "metadata": {},
   "source": [
    "### dog 이미지가 맞는지 정확도 구하기\n",
    "\n",
    "dog_distances에 새롭게 만든 함수를 적용해서 dog 이미지가 맞는지를 판별하고 이렇게 구한 결과가 얼마의 정확도를 가지는지를 구해 봅시다.\n",
    "\n",
    "- dog_distances에 apply와 is_dog_correct를 적용합시다.\n",
    "- 위의 결과값은 어떤 유형인가요? 어떻게 하면 개수를 셀 수 있을까요?\n",
    "- 나누기의 분모는 무엇이어야 할까요?\n",
    "- 나누기할 때 반드시 float()를 사용하세요.\n"
   ]
  },
  {
   "cell_type": "code",
   "execution_count": null,
   "metadata": {},
   "outputs": [],
   "source": []
  },
  {
   "cell_type": "markdown",
   "metadata": {},
   "source": [
    "결과값은 0.678이 나와야 합니다."
   ]
  },
  {
   "cell_type": "markdown",
   "metadata": {},
   "source": [
    "## Quiz\n",
    "\n",
    "### 고양이 이미지가 맞는지 정확도 구하기\n",
    "\n",
    "위와 동일한 방법으로 고양이 이미지에 대해서도 구해 봅시다\n",
    "\n",
    "- 먼저 cat_distance_for_specific_label을 구합니다.\n",
    "- 그 다음 cat_distances를 구합니다.\n",
    "- is_cat_correct 함수를 만듭니다.\n",
    "- apply를 이용해서 고양이 테스트 이미지에 적용한 다음 정확도를 구합니다."
   ]
  },
  {
   "cell_type": "code",
   "execution_count": null,
   "metadata": {},
   "outputs": [],
   "source": []
  },
  {
   "cell_type": "code",
   "execution_count": null,
   "metadata": {},
   "outputs": [],
   "source": []
  },
  {
   "cell_type": "code",
   "execution_count": null,
   "metadata": {},
   "outputs": [],
   "source": []
  },
  {
   "cell_type": "code",
   "execution_count": null,
   "metadata": {},
   "outputs": [],
   "source": []
  },
  {
   "cell_type": "markdown",
   "metadata": {},
   "source": [
    "0.548의 결과값이 나와야 합니다."
   ]
  }
 ],
 "metadata": {
  "kernelspec": {
   "display_name": "Python 2",
   "language": "python",
   "name": "python2"
  },
  "language_info": {
   "codemirror_mode": {
    "name": "ipython",
    "version": 2
   },
   "file_extension": ".py",
   "mimetype": "text/x-python",
   "name": "python",
   "nbconvert_exporter": "python",
   "pygments_lexer": "ipython2",
   "version": "2.7.14"
  }
 },
 "nbformat": 4,
 "nbformat_minor": 1
}
